{
 "cells": [
  {
   "cell_type": "code",
   "execution_count": 10,
   "id": "137fb526-87e2-407f-9191-86fc31add62c",
   "metadata": {
    "tags": []
   },
   "outputs": [],
   "source": [
    "import glob\n",
    "import pandas as pd\n",
    "import pyarrow as pa\n",
    "import pyarrow.parquet as pq\n",
    "import numpy as np\n",
    "import re\n",
    "from decimal import Decimal\n",
    "from datetime import datetime\n",
    "import pandas_gbq\n",
    "pd.set_option('display.max_columns', None)  "
   ]
  },
  {
   "cell_type": "code",
   "execution_count": 11,
   "id": "c5551891-59d2-45cd-8111-b19b6b6ea9f5",
   "metadata": {
    "tags": []
   },
   "outputs": [],
   "source": [
    "# current_date = datetime.now()\n",
    "# first_day = current_date.replace(day=1)\n",
    "# formatted_date = first_day.strftime(\"%Y%m%d\")\n",
    "# formatted_date"
   ]
  },
  {
   "cell_type": "code",
   "execution_count": 12,
   "id": "6640f44a-6674-491c-8676-972f3ed4b040",
   "metadata": {
    "tags": []
   },
   "outputs": [],
   "source": [
    "folder_main = \"C:/Users/gianhubinh.le/OneDrive - L'Oréal/Documents - -VN- Data Hub - Analytics/Tiktok Shop/\"\n",
    "division_lst = ['CPD','LDB','LLD','PPD']\n",
    "# division_lst = ['LDB']\n",
    "date_formatted_input = 20231201"
   ]
  },
  {
   "cell_type": "markdown",
   "id": "5a37d2db-5a8b-406a-84b4-db3e1d03e5fa",
   "metadata": {
    "tags": []
   },
   "source": [
    "## 1.  Total Order"
   ]
  },
  {
   "cell_type": "markdown",
   "id": "372cd742-fe13-4809-b4b8-8ed157920790",
   "metadata": {},
   "source": [
    "### 1.A. Read all files from folder"
   ]
  },
  {
   "cell_type": "code",
   "execution_count": 13,
   "id": "0b93c519-44dd-47f4-97aa-faae04e11572",
   "metadata": {
    "tags": []
   },
   "outputs": [],
   "source": [
    "csv_files_raw = []\n",
    "folder_lst = []\n",
    "\n",
    "for division in division_lst:\n",
    "    folder_path = folder_main + division\n",
    "    folder_lst.append(folder_path)\n",
    "for folder in folder_lst:\n",
    "    folder_order = folder + \"/Orders/\"\n",
    "    csv_files_lst = glob.glob(folder_order + \"\\*.xlsx\")\n",
    "    for csv_file in csv_files_lst:\n",
    "        csv_files_raw.append(csv_file)"
   ]
  },
  {
   "cell_type": "code",
   "execution_count": 14,
   "id": "afc96d88-e367-4bd1-8ac6-5dfa8d047b95",
   "metadata": {
    "tags": []
   },
   "outputs": [
    {
     "name": "stdout",
     "output_type": "stream",
     "text": [
      "Total files: 5\n"
     ]
    },
    {
     "data": {
      "text/plain": [
       "[\"C:/Users/gianhubinh.le/OneDrive - L'Oréal/Documents - -VN- Data Hub - Analytics/Tiktok Shop/CPD/Orders\\\\mny_tiktok_orders_2023_12_01.xlsx\",\n",
       " \"C:/Users/gianhubinh.le/OneDrive - L'Oréal/Documents - -VN- Data Hub - Analytics/Tiktok Shop/CPD/Orders\\\\oap_tiktok_orders_2023_12_01.xlsx\",\n",
       " \"C:/Users/gianhubinh.le/OneDrive - L'Oréal/Documents - -VN- Data Hub - Analytics/Tiktok Shop/LDB/Orders\\\\cerave_tiktok_orders_2023_12_01.xlsx\",\n",
       " \"C:/Users/gianhubinh.le/OneDrive - L'Oréal/Documents - -VN- Data Hub - Analytics/Tiktok Shop/LDB/Orders\\\\derma_tiktok_orders_2023_12_01.xlsx\",\n",
       " \"C:/Users/gianhubinh.le/OneDrive - L'Oréal/Documents - -VN- Data Hub - Analytics/Tiktok Shop/LLD/Orders\\\\kiehls_tiktok_orders_2023_12_01.xlsx\"]"
      ]
     },
     "execution_count": 14,
     "metadata": {},
     "output_type": "execute_result"
    }
   ],
   "source": [
    "csv_files = []\n",
    "\n",
    "def extract_month(folder_location_string):\n",
    "    date_extract_pattern = r'\\d{4}_\\d{2}_\\d{2}'\n",
    "    match = re.search(date_extract_pattern, folder_location_string)\n",
    "    if match:\n",
    "        extracted_date = match.group()\n",
    "        date_formatted = int(extracted_date.replace(\"_\", \"\"))\n",
    "        if date_formatted >= date_formatted_input:\n",
    "            csv_files.append(folder_location_string)  \n",
    "    \n",
    "for i in csv_files_raw:\n",
    "    extract_month(i)   \n",
    "    \n",
    "print('Total files: ' + str(len(csv_files)))    \n",
    "csv_files"
   ]
  },
  {
   "cell_type": "markdown",
   "id": "5655978e-0cd1-48d2-8017-505d77f6524b",
   "metadata": {},
   "source": [
    "### 1.B. Append all csv files into a dataframe"
   ]
  },
  {
   "cell_type": "code",
   "execution_count": 15,
   "id": "ac425de3-f5ad-4963-97ad-2e65a582d795",
   "metadata": {
    "tags": []
   },
   "outputs": [
    {
     "name": "stdout",
     "output_type": "stream",
     "text": [
      "125011\n"
     ]
    },
    {
     "data": {
      "text/html": [
       "<div>\n",
       "<style scoped>\n",
       "    .dataframe tbody tr th:only-of-type {\n",
       "        vertical-align: middle;\n",
       "    }\n",
       "\n",
       "    .dataframe tbody tr th {\n",
       "        vertical-align: top;\n",
       "    }\n",
       "\n",
       "    .dataframe thead th {\n",
       "        text-align: right;\n",
       "    }\n",
       "</style>\n",
       "<table border=\"1\" class=\"dataframe\">\n",
       "  <thead>\n",
       "    <tr style=\"text-align: right;\">\n",
       "      <th></th>\n",
       "      <th>order_id</th>\n",
       "      <th>order_status</th>\n",
       "      <th>order_substatus</th>\n",
       "      <th>cancelation_type</th>\n",
       "      <th>normal_or_preorder</th>\n",
       "      <th>sku_id</th>\n",
       "      <th>seller_sku</th>\n",
       "      <th>product_name</th>\n",
       "      <th>variation</th>\n",
       "      <th>quantity</th>\n",
       "      <th>sku_quantity_of_return</th>\n",
       "      <th>sku_unit_original_price</th>\n",
       "      <th>sku_subtotal_before_discount</th>\n",
       "      <th>sku_platform_discount</th>\n",
       "      <th>sku_seller_discount</th>\n",
       "      <th>sku_subtotal_after_discount</th>\n",
       "      <th>shipping_fee_after_discount</th>\n",
       "      <th>original_shipping_fee</th>\n",
       "      <th>shipping_fee_seller_discount</th>\n",
       "      <th>shipping_fee_platform_discount</th>\n",
       "      <th>Payment platform discount</th>\n",
       "      <th>taxes</th>\n",
       "      <th>order_amount</th>\n",
       "      <th>order_refund_amount</th>\n",
       "      <th>created_time</th>\n",
       "      <th>paid_time</th>\n",
       "      <th>rts_time</th>\n",
       "      <th>shipped_time</th>\n",
       "      <th>delivered_time</th>\n",
       "      <th>cancelled_time</th>\n",
       "      <th>cancel_by</th>\n",
       "      <th>cancel_reason</th>\n",
       "      <th>fulfillment_type</th>\n",
       "      <th>warehouse_name</th>\n",
       "      <th>tracking_id</th>\n",
       "      <th>delivery_option</th>\n",
       "      <th>shipping_provider_name</th>\n",
       "      <th>buyer_message</th>\n",
       "      <th>buyer_username</th>\n",
       "      <th>recipient</th>\n",
       "      <th>phone</th>\n",
       "      <th>country</th>\n",
       "      <th>province</th>\n",
       "      <th>district</th>\n",
       "      <th>commune</th>\n",
       "      <th>detail_address</th>\n",
       "      <th>additional_address_information</th>\n",
       "      <th>payment_method</th>\n",
       "      <th>weight</th>\n",
       "      <th>product_category</th>\n",
       "      <th>package_id</th>\n",
       "      <th>seller_note</th>\n",
       "      <th>checked_status</th>\n",
       "      <th>checked_marked_by</th>\n",
       "      <th>brand</th>\n",
       "    </tr>\n",
       "  </thead>\n",
       "  <tbody>\n",
       "    <tr>\n",
       "      <th>0</th>\n",
       "      <td>578249711791212696</td>\n",
       "      <td>Shipped</td>\n",
       "      <td>In Transit</td>\n",
       "      <td>NaN</td>\n",
       "      <td>Normal</td>\n",
       "      <td>1729799605019904186</td>\n",
       "      <td>TUML01068CB</td>\n",
       "      <td>[Bộ trang điểm] Kem Nền Kiềm Dầu Fit Me 30ml v...</td>\n",
       "      <td>FM FDT 110 + CP 109</td>\n",
       "      <td>1</td>\n",
       "      <td>0</td>\n",
       "      <td>446.000 VND</td>\n",
       "      <td>446.000 VND</td>\n",
       "      <td>0 VND</td>\n",
       "      <td>58.000 VND</td>\n",
       "      <td>388.000 VND</td>\n",
       "      <td>8.100 VND</td>\n",
       "      <td>33.100 VND</td>\n",
       "      <td>0 VND</td>\n",
       "      <td>25.000 VND</td>\n",
       "      <td>NaN</td>\n",
       "      <td>0 VND</td>\n",
       "      <td>396.100 VND</td>\n",
       "      <td>NaN</td>\n",
       "      <td>18/12/2023 23:59:11\\t</td>\n",
       "      <td>18/12/2023 23:59:26\\t</td>\n",
       "      <td>19/12/2023 00:03:26\\t</td>\n",
       "      <td>19/12/2023 10:36:33\\t</td>\n",
       "      <td>\\t</td>\n",
       "      <td>\\t</td>\n",
       "      <td>NaN</td>\n",
       "      <td>NaN</td>\n",
       "      <td>Fulfillment by seller</td>\n",
       "      <td>Kho Tiki Tân Bình</td>\n",
       "      <td>855825474604.0</td>\n",
       "      <td>Standard shipping</td>\n",
       "      <td>J&amp;T Express</td>\n",
       "      <td>NaN</td>\n",
       "      <td>atham1105</td>\n",
       "      <td>N***** T** A T***</td>\n",
       "      <td>(+84)092*****86</td>\n",
       "      <td>Việt Nam</td>\n",
       "      <td>Bình Dương</td>\n",
       "      <td>Thủ Dầu Một</td>\n",
       "      <td>Ph* **</td>\n",
       "      <td>Nă* *** *** *** ***** *** **** *** *** *** ***...</td>\n",
       "      <td>NaN</td>\n",
       "      <td>Momo</td>\n",
       "      <td>0.163</td>\n",
       "      <td>Makeup Sets</td>\n",
       "      <td>1153876103991167128\\t</td>\n",
       "      <td>NaN</td>\n",
       "      <td>Unchecked</td>\n",
       "      <td>NaN</td>\n",
       "      <td>Maybelline</td>\n",
       "    </tr>\n",
       "  </tbody>\n",
       "</table>\n",
       "</div>"
      ],
      "text/plain": [
       "             order_id order_status order_substatus cancelation_type  \\\n",
       "0  578249711791212696      Shipped      In Transit              NaN   \n",
       "\n",
       "  normal_or_preorder               sku_id   seller_sku  \\\n",
       "0             Normal  1729799605019904186  TUML01068CB   \n",
       "\n",
       "                                        product_name            variation  \\\n",
       "0  [Bộ trang điểm] Kem Nền Kiềm Dầu Fit Me 30ml v...  FM FDT 110 + CP 109   \n",
       "\n",
       "   quantity  sku_quantity_of_return sku_unit_original_price  \\\n",
       "0         1                       0             446.000 VND   \n",
       "\n",
       "  sku_subtotal_before_discount sku_platform_discount sku_seller_discount  \\\n",
       "0                  446.000 VND                 0 VND          58.000 VND   \n",
       "\n",
       "  sku_subtotal_after_discount shipping_fee_after_discount  \\\n",
       "0                 388.000 VND                   8.100 VND   \n",
       "\n",
       "  original_shipping_fee shipping_fee_seller_discount  \\\n",
       "0            33.100 VND                        0 VND   \n",
       "\n",
       "  shipping_fee_platform_discount Payment platform discount  taxes  \\\n",
       "0                     25.000 VND                       NaN  0 VND   \n",
       "\n",
       "  order_amount order_refund_amount           created_time  \\\n",
       "0  396.100 VND                 NaN  18/12/2023 23:59:11\\t   \n",
       "\n",
       "               paid_time               rts_time           shipped_time  \\\n",
       "0  18/12/2023 23:59:26\\t  19/12/2023 00:03:26\\t  19/12/2023 10:36:33\\t   \n",
       "\n",
       "  delivered_time cancelled_time cancel_by cancel_reason  \\\n",
       "0             \\t             \\t       NaN           NaN   \n",
       "\n",
       "        fulfillment_type     warehouse_name     tracking_id  \\\n",
       "0  Fulfillment by seller  Kho Tiki Tân Bình  855825474604.0   \n",
       "\n",
       "     delivery_option shipping_provider_name buyer_message buyer_username  \\\n",
       "0  Standard shipping            J&T Express           NaN      atham1105   \n",
       "\n",
       "            recipient            phone   country    province     district  \\\n",
       "0  N***** T** A T***   (+84)092*****86  Việt Nam  Bình Dương  Thủ Dầu Một   \n",
       "\n",
       "  commune                                     detail_address  \\\n",
       "0  Ph* **  Nă* *** *** *** ***** *** **** *** *** *** ***...   \n",
       "\n",
       "  additional_address_information payment_method  weight product_category  \\\n",
       "0                            NaN           Momo   0.163      Makeup Sets   \n",
       "\n",
       "              package_id seller_note checked_status checked_marked_by  \\\n",
       "0  1153876103991167128\\t         NaN      Unchecked               NaN   \n",
       "\n",
       "        brand  \n",
       "0  Maybelline  "
      ]
     },
     "execution_count": 15,
     "metadata": {},
     "output_type": "execute_result"
    }
   ],
   "source": [
    "dfs = []\n",
    "for file in csv_files:\n",
    "    df = pd.read_excel(file, dtype={\n",
    "        'Seller Note': str\n",
    "        ,'Checked Marked by': str\n",
    "        ,'additional_address_information': str\n",
    "    })\n",
    "    \n",
    "    if re.search(\"cerave\", str(file), re.IGNORECASE):\n",
    "        df['brand'] = 'CeraVe'\n",
    "    elif re.search(\"kiehls\", str(file), re.IGNORECASE):\n",
    "        df['brand'] = \"Kiehl's\"\n",
    "    elif re.search(\"oap\", str(file), re.IGNORECASE):\n",
    "        df['brand'] = \"L'Oreal Paris\"\n",
    "    elif re.search(\"mny\", str(file), re.IGNORECASE):\n",
    "        df['brand'] = \"Maybelline\"\n",
    "    elif re.search(\"derma\", str(file), re.IGNORECASE):\n",
    "        df['brand'] = \"Derma\"\n",
    "        \n",
    "    dfs.append(df)\n",
    "\n",
    "df_order = pd.concat(dfs)    \n",
    "df_order.rename(columns={'Order ID': 'order_id', 'Order Status': 'order_status', 'Order Substatus': 'order_substatus', 'Cancelation/Return Type': 'cancelation_type', 'Normal or Pre-order': 'normal_or_preorder', 'SKU ID': 'sku_id', 'Seller SKU': 'seller_sku', 'Product Name': 'product_name', 'Variation': 'variation', 'Quantity': 'quantity', 'Sku Quantity of return': 'sku_quantity_of_return', 'SKU Unit Original Price': 'sku_unit_original_price', 'SKU Subtotal Before Discount': 'sku_subtotal_before_discount', 'SKU Platform Discount': 'sku_platform_discount', 'SKU Seller Discount': 'sku_seller_discount', 'SKU Subtotal After Discount': 'sku_subtotal_after_discount', 'Shipping Fee After Discount': 'shipping_fee_after_discount', 'Original Shipping Fee': 'original_shipping_fee', 'Shipping Fee Seller Discount': 'shipping_fee_seller_discount', 'Shipping Fee Platform Discount': 'shipping_fee_platform_discount', 'Taxes': 'taxes', 'Order Amount': 'order_amount', 'Order Refund Amount': 'order_refund_amount', 'Created Time': 'created_time', 'Paid Time': 'paid_time', 'RTS Time': 'rts_time', 'Shipped Time': 'shipped_time', 'Delivered Time': 'delivered_time', 'Cancelled Time': 'cancelled_time', 'Cancel By': 'cancel_by', 'Cancel Reason': 'cancel_reason', 'Fulfillment Type': 'fulfillment_type', 'Warehouse Name': 'warehouse_name', 'Tracking ID': 'tracking_id', 'Delivery Option': 'delivery_option', 'Shipping Provider Name': 'shipping_provider_name', 'Buyer Message': 'buyer_message', 'Buyer Username': 'buyer_username', 'Recipient': 'recipient', 'Phone #': 'phone', 'Country': 'country', 'Province': 'province', 'District': 'district', 'Commune': 'commune', 'Detail Address': 'detail_address', 'Additional address information': 'additional_address_information', 'Payment Method': 'payment_method', 'Weight(kg)': 'weight', 'Product Category': 'product_category', 'Package ID': 'package_id', 'Seller Note': 'seller_note', 'Checked Status': 'checked_status', 'Checked Marked by': 'checked_marked_by'\n",
    "                        }, errors=\"raise\", inplace=True)\n",
    "df_order = df_order.dropna(axis=0, subset=['order_id'])\n",
    "# # df_order.set_index('order_id', inplace=True)\n",
    "# print(len(df_order))\n",
    "print(len(df_order))\n",
    "df_order.head(1)"
   ]
  },
  {
   "cell_type": "markdown",
   "id": "76fdcaf4-c566-45d0-b50b-86fdc1e4c3e3",
   "metadata": {
    "tags": []
   },
   "source": [
    "### 1.C. Clean the order dataframe"
   ]
  },
  {
   "cell_type": "code",
   "execution_count": 16,
   "id": "d8e9f510-89d4-4e60-b54b-af3df72373a8",
   "metadata": {
    "tags": []
   },
   "outputs": [
    {
     "name": "stdout",
     "output_type": "stream",
     "text": [
      "125011\n"
     ]
    },
    {
     "data": {
      "text/html": [
       "<div>\n",
       "<style scoped>\n",
       "    .dataframe tbody tr th:only-of-type {\n",
       "        vertical-align: middle;\n",
       "    }\n",
       "\n",
       "    .dataframe tbody tr th {\n",
       "        vertical-align: top;\n",
       "    }\n",
       "\n",
       "    .dataframe thead th {\n",
       "        text-align: right;\n",
       "    }\n",
       "</style>\n",
       "<table border=\"1\" class=\"dataframe\">\n",
       "  <thead>\n",
       "    <tr style=\"text-align: right;\">\n",
       "      <th></th>\n",
       "      <th>order_status</th>\n",
       "      <th>order_substatus</th>\n",
       "      <th>cancelation_type</th>\n",
       "      <th>normal_or_preorder</th>\n",
       "      <th>sku_id</th>\n",
       "      <th>seller_sku</th>\n",
       "      <th>product_name</th>\n",
       "      <th>variation</th>\n",
       "      <th>quantity</th>\n",
       "      <th>sku_quantity_of_return</th>\n",
       "      <th>sku_unit_original_price</th>\n",
       "      <th>sku_subtotal_before_discount</th>\n",
       "      <th>sku_platform_discount</th>\n",
       "      <th>sku_seller_discount</th>\n",
       "      <th>sku_subtotal_after_discount</th>\n",
       "      <th>shipping_fee_after_discount</th>\n",
       "      <th>original_shipping_fee</th>\n",
       "      <th>shipping_fee_seller_discount</th>\n",
       "      <th>shipping_fee_platform_discount</th>\n",
       "      <th>Payment platform discount</th>\n",
       "      <th>taxes</th>\n",
       "      <th>order_amount</th>\n",
       "      <th>order_refund_amount</th>\n",
       "      <th>created_time</th>\n",
       "      <th>paid_time</th>\n",
       "      <th>rts_time</th>\n",
       "      <th>shipped_time</th>\n",
       "      <th>delivered_time</th>\n",
       "      <th>cancelled_time</th>\n",
       "      <th>cancel_by</th>\n",
       "      <th>cancel_reason</th>\n",
       "      <th>fulfillment_type</th>\n",
       "      <th>warehouse_name</th>\n",
       "      <th>tracking_id</th>\n",
       "      <th>delivery_option</th>\n",
       "      <th>shipping_provider_name</th>\n",
       "      <th>buyer_message</th>\n",
       "      <th>buyer_username</th>\n",
       "      <th>recipient</th>\n",
       "      <th>phone</th>\n",
       "      <th>country</th>\n",
       "      <th>province</th>\n",
       "      <th>district</th>\n",
       "      <th>commune</th>\n",
       "      <th>detail_address</th>\n",
       "      <th>additional_address_information</th>\n",
       "      <th>payment_method</th>\n",
       "      <th>weight</th>\n",
       "      <th>product_category</th>\n",
       "      <th>package_id</th>\n",
       "      <th>seller_note</th>\n",
       "      <th>checked_status</th>\n",
       "      <th>checked_marked_by</th>\n",
       "      <th>brand</th>\n",
       "    </tr>\n",
       "    <tr>\n",
       "      <th>order_id</th>\n",
       "      <th></th>\n",
       "      <th></th>\n",
       "      <th></th>\n",
       "      <th></th>\n",
       "      <th></th>\n",
       "      <th></th>\n",
       "      <th></th>\n",
       "      <th></th>\n",
       "      <th></th>\n",
       "      <th></th>\n",
       "      <th></th>\n",
       "      <th></th>\n",
       "      <th></th>\n",
       "      <th></th>\n",
       "      <th></th>\n",
       "      <th></th>\n",
       "      <th></th>\n",
       "      <th></th>\n",
       "      <th></th>\n",
       "      <th></th>\n",
       "      <th></th>\n",
       "      <th></th>\n",
       "      <th></th>\n",
       "      <th></th>\n",
       "      <th></th>\n",
       "      <th></th>\n",
       "      <th></th>\n",
       "      <th></th>\n",
       "      <th></th>\n",
       "      <th></th>\n",
       "      <th></th>\n",
       "      <th></th>\n",
       "      <th></th>\n",
       "      <th></th>\n",
       "      <th></th>\n",
       "      <th></th>\n",
       "      <th></th>\n",
       "      <th></th>\n",
       "      <th></th>\n",
       "      <th></th>\n",
       "      <th></th>\n",
       "      <th></th>\n",
       "      <th></th>\n",
       "      <th></th>\n",
       "      <th></th>\n",
       "      <th></th>\n",
       "      <th></th>\n",
       "      <th></th>\n",
       "      <th></th>\n",
       "      <th></th>\n",
       "      <th></th>\n",
       "      <th></th>\n",
       "      <th></th>\n",
       "      <th></th>\n",
       "    </tr>\n",
       "  </thead>\n",
       "  <tbody>\n",
       "    <tr>\n",
       "      <th>578249711791212696</th>\n",
       "      <td>Shipped</td>\n",
       "      <td>In Transit</td>\n",
       "      <td>NaN</td>\n",
       "      <td>Normal</td>\n",
       "      <td>1729799605019904186</td>\n",
       "      <td>TUML01068CB</td>\n",
       "      <td>[Bộ trang điểm] Kem Nền Kiềm Dầu Fit Me 30ml v...</td>\n",
       "      <td>FM FDT 110 + CP 109</td>\n",
       "      <td>1</td>\n",
       "      <td>0</td>\n",
       "      <td>446000.0</td>\n",
       "      <td>446000.0</td>\n",
       "      <td>0.0</td>\n",
       "      <td>58000.0</td>\n",
       "      <td>388000.0</td>\n",
       "      <td>8100.0</td>\n",
       "      <td>33100.0</td>\n",
       "      <td>0.0</td>\n",
       "      <td>25000.0</td>\n",
       "      <td>NaN</td>\n",
       "      <td>0.0</td>\n",
       "      <td>396100.0</td>\n",
       "      <td>NaN</td>\n",
       "      <td>2023-12-18 23:59:11</td>\n",
       "      <td>2023-12-18 23:59:26</td>\n",
       "      <td>2023-12-19 00:03:26</td>\n",
       "      <td>2023-12-19 10:36:33</td>\n",
       "      <td>NaT</td>\n",
       "      <td>NaT</td>\n",
       "      <td>nan</td>\n",
       "      <td>nan</td>\n",
       "      <td>Fulfillment by seller</td>\n",
       "      <td>Kho Tiki Tân Bình</td>\n",
       "      <td>855825474604.0</td>\n",
       "      <td>Standard shipping</td>\n",
       "      <td>J&amp;T Express</td>\n",
       "      <td>nan</td>\n",
       "      <td>atham1105</td>\n",
       "      <td>N***** T** A T***</td>\n",
       "      <td>(+84)092*****86</td>\n",
       "      <td>Việt Nam</td>\n",
       "      <td>Bình Dương</td>\n",
       "      <td>Thủ Dầu Một</td>\n",
       "      <td>Ph* **</td>\n",
       "      <td>Nă* *** *** *** ***** *** **** *** *** *** ***...</td>\n",
       "      <td>nan</td>\n",
       "      <td>Momo</td>\n",
       "      <td>0.163</td>\n",
       "      <td>Makeup Sets</td>\n",
       "      <td>1153876103991167128\\t</td>\n",
       "      <td>nan</td>\n",
       "      <td>Unchecked</td>\n",
       "      <td>nan</td>\n",
       "      <td>Maybelline</td>\n",
       "    </tr>\n",
       "  </tbody>\n",
       "</table>\n",
       "</div>"
      ],
      "text/plain": [
       "                   order_status order_substatus cancelation_type  \\\n",
       "order_id                                                           \n",
       "578249711791212696      Shipped      In Transit              NaN   \n",
       "\n",
       "                   normal_or_preorder               sku_id   seller_sku  \\\n",
       "order_id                                                                  \n",
       "578249711791212696             Normal  1729799605019904186  TUML01068CB   \n",
       "\n",
       "                                                         product_name  \\\n",
       "order_id                                                                \n",
       "578249711791212696  [Bộ trang điểm] Kem Nền Kiềm Dầu Fit Me 30ml v...   \n",
       "\n",
       "                              variation  quantity  sku_quantity_of_return  \\\n",
       "order_id                                                                    \n",
       "578249711791212696  FM FDT 110 + CP 109         1                       0   \n",
       "\n",
       "                    sku_unit_original_price  sku_subtotal_before_discount  \\\n",
       "order_id                                                                    \n",
       "578249711791212696                 446000.0                      446000.0   \n",
       "\n",
       "                    sku_platform_discount  sku_seller_discount  \\\n",
       "order_id                                                         \n",
       "578249711791212696                    0.0              58000.0   \n",
       "\n",
       "                    sku_subtotal_after_discount  shipping_fee_after_discount  \\\n",
       "order_id                                                                       \n",
       "578249711791212696                     388000.0                       8100.0   \n",
       "\n",
       "                    original_shipping_fee  shipping_fee_seller_discount  \\\n",
       "order_id                                                                  \n",
       "578249711791212696                33100.0                           0.0   \n",
       "\n",
       "                    shipping_fee_platform_discount Payment platform discount  \\\n",
       "order_id                                                                       \n",
       "578249711791212696                         25000.0                       NaN   \n",
       "\n",
       "                    taxes  order_amount  order_refund_amount  \\\n",
       "order_id                                                       \n",
       "578249711791212696    0.0      396100.0                  NaN   \n",
       "\n",
       "                          created_time           paid_time  \\\n",
       "order_id                                                     \n",
       "578249711791212696 2023-12-18 23:59:11 2023-12-18 23:59:26   \n",
       "\n",
       "                              rts_time        shipped_time delivered_time  \\\n",
       "order_id                                                                    \n",
       "578249711791212696 2023-12-19 00:03:26 2023-12-19 10:36:33            NaT   \n",
       "\n",
       "                   cancelled_time cancel_by cancel_reason  \\\n",
       "order_id                                                    \n",
       "578249711791212696            NaT       nan           nan   \n",
       "\n",
       "                         fulfillment_type     warehouse_name     tracking_id  \\\n",
       "order_id                                                                       \n",
       "578249711791212696  Fulfillment by seller  Kho Tiki Tân Bình  855825474604.0   \n",
       "\n",
       "                      delivery_option shipping_provider_name buyer_message  \\\n",
       "order_id                                                                     \n",
       "578249711791212696  Standard shipping            J&T Express           nan   \n",
       "\n",
       "                   buyer_username           recipient            phone  \\\n",
       "order_id                                                                 \n",
       "578249711791212696      atham1105  N***** T** A T***   (+84)092*****86   \n",
       "\n",
       "                     country    province     district commune  \\\n",
       "order_id                                                        \n",
       "578249711791212696  Việt Nam  Bình Dương  Thủ Dầu Một  Ph* **   \n",
       "\n",
       "                                                       detail_address  \\\n",
       "order_id                                                                \n",
       "578249711791212696  Nă* *** *** *** ***** *** **** *** *** *** ***...   \n",
       "\n",
       "                   additional_address_information payment_method  weight  \\\n",
       "order_id                                                                   \n",
       "578249711791212696                            nan           Momo   0.163   \n",
       "\n",
       "                   product_category             package_id seller_note  \\\n",
       "order_id                                                                 \n",
       "578249711791212696      Makeup Sets  1153876103991167128\\t         nan   \n",
       "\n",
       "                   checked_status checked_marked_by       brand  \n",
       "order_id                                                         \n",
       "578249711791212696      Unchecked               nan  Maybelline  "
      ]
     },
     "execution_count": 16,
     "metadata": {},
     "output_type": "execute_result"
    }
   ],
   "source": [
    "def clean_vnd(x): \n",
    "    return float(str(x).replace('VND','').replace('.','').replace(' ',''))\n",
    "\n",
    "# def clean_time(x): \n",
    "#     return str(x).replace('\\t','').strip()\n",
    "\n",
    "def clean_time(x): \n",
    "    time_string = str(x).replace('\\t','').strip()\n",
    "    try:\n",
    "        return datetime.strptime(time_string, '%d/%m/%Y %H:%M:%S')\n",
    "    except:\n",
    "        return None\n",
    "\n",
    "def clean_order_id(x): \n",
    "    return str(x).replace('\\t','')\n",
    "\n",
    "def clean_sku_id(x): \n",
    "    return str(x).replace('\\t','')\n",
    "\n",
    "df_order['sku_unit_original_price'] = df_order['sku_unit_original_price'].apply(clean_vnd)   \n",
    "df_order['sku_subtotal_before_discount'] = df_order['sku_subtotal_before_discount'].apply(clean_vnd)\n",
    "df_order['sku_platform_discount'] = df_order['sku_platform_discount'].apply(clean_vnd)\n",
    "df_order['sku_seller_discount'] = df_order['sku_seller_discount'].apply(clean_vnd)\n",
    "df_order['sku_subtotal_after_discount'] = df_order['sku_subtotal_after_discount'].apply(clean_vnd)\n",
    "df_order['shipping_fee_after_discount'] = df_order['shipping_fee_after_discount'].apply(clean_vnd)\n",
    "df_order['original_shipping_fee'] = df_order['original_shipping_fee'].apply(clean_vnd)\n",
    "df_order['shipping_fee_seller_discount'] = df_order['shipping_fee_seller_discount'].apply(clean_vnd)\n",
    "df_order['shipping_fee_platform_discount'] = df_order['shipping_fee_platform_discount'].apply(clean_vnd)\n",
    "df_order['taxes'] = df_order['taxes'].apply(clean_vnd)\n",
    "df_order['order_amount'] = df_order['order_amount'].apply(clean_vnd)\n",
    "df_order['order_refund_amount'] = df_order['order_refund_amount'].apply(clean_vnd)\n",
    "df_order['tracking_id'] = df_order['tracking_id'].astype(str)\n",
    "\n",
    "df_order['created_time'] = df_order['created_time'].apply(clean_time)\n",
    "df_order['paid_time'] = df_order['paid_time'].apply(clean_time)\n",
    "df_order['rts_time'] = df_order['rts_time'].apply(clean_time)\n",
    "df_order['shipped_time'] = df_order['shipped_time'].apply(clean_time)\n",
    "df_order['delivered_time'] = df_order['delivered_time'].apply(clean_time)\n",
    "df_order['cancelled_time'] = df_order['cancelled_time'].apply(clean_time)\n",
    "\n",
    "# df_order['created_time'] = pd.to_datetime(df_order['created_time'].apply(clean_time), format='%d/%m/%Y %H:%M:%S', errors = 'ignore')\n",
    "# df_order['paid_time'] = pd.to_datetime(df_order['paid_time'].apply(clean_time), format='%d/%m/%Y %H:%M:%S', errors = 'ignore')\n",
    "# df_order['rts_time'] = pd.to_datetime(df_order['rts_time'].apply(clean_time), format='%d/%m/%Y %H:%M:%S', errors = 'ignore')\n",
    "# df_order['shipped_time'] = pd.to_datetime(df_order['shipped_time'].apply(clean_time), format='%d/%m/%Y %H:%M:%S', errors = 'ignore')\n",
    "# df_order['delivered_time'] = pd.to_datetime(df_order['delivered_time'].apply(clean_time), format='%d/%m/%Y %H:%M:%S', errors = 'ignore')\n",
    "# df_order['cancelled_time'] = pd.to_datetime(df_order['cancelled_time'].apply(clean_time), format='%d/%m/%Y %H:%M:%S', errors = 'ignore')\n",
    "\n",
    "df_order['order_id'] = df_order['order_id'].apply(clean_order_id)\n",
    "df_order['sku_id'] = df_order['sku_id'].apply(clean_order_id)\n",
    "\n",
    "df_order['product_name'] = df_order['product_name'].astype(str)\n",
    "df_order['variation'] = df_order['variation'].astype(str)\n",
    "df_order['cancel_by'] = df_order['cancel_by'].astype(str)\n",
    "df_order['cancel_reason'] = df_order['cancel_reason'].astype(str)\n",
    "df_order['fulfillment_type'] = df_order['fulfillment_type'].astype(str)\n",
    "df_order['warehouse_name'] = df_order['warehouse_name'].astype(str)\n",
    "df_order['tracking_id'] = df_order['tracking_id'].astype(str)\n",
    "df_order['delivery_option'] = df_order['delivery_option'].astype(str)\n",
    "df_order['shipping_provider_name'] = df_order['shipping_provider_name'].astype(str)\n",
    "df_order['buyer_message'] = df_order['buyer_message'].astype(str)\n",
    "df_order['buyer_username'] = df_order['buyer_username'].astype(str)\n",
    "df_order['recipient'] = df_order['recipient'].astype(str)\n",
    "df_order['phone'] = df_order['phone'].astype(str)\n",
    "df_order['country'] = df_order['country'].astype(str)\n",
    "df_order['province'] = df_order['province'].astype(str)\n",
    "df_order['district'] = df_order['district'].astype(str)\n",
    "df_order['commune'] = df_order['commune'].astype(str)\n",
    "df_order['detail_address'] = df_order['detail_address'].astype(str)\n",
    "df_order['additional_address_information'] = df_order['additional_address_information'].astype(str)\n",
    "df_order['payment_method'] = df_order['payment_method'].astype(str)\n",
    "df_order['product_category'] = df_order['product_category'].astype(str)\n",
    "df_order['package_id'] = df_order['package_id'].astype(str)\n",
    "df_order['seller_note'] = df_order['seller_note'].astype(str)\n",
    "df_order['checked_status'] = df_order['checked_status'].astype(str)\n",
    "df_order['checked_marked_by'] = df_order['checked_marked_by'].astype(str)\n",
    "df_order['brand'] = df_order['brand'].astype(str)\n",
    "\n",
    "df_order.set_index('order_id', inplace=True)\n",
    "df_order = df_order.drop_duplicates()\n",
    "print(len(df_order))\n",
    "df_order.head(1)"
   ]
  },
  {
   "cell_type": "markdown",
   "id": "a139d83b-1d59-4caa-9b38-24d376edf0d0",
   "metadata": {},
   "source": [
    "### 1.D. Write order to GCP"
   ]
  },
  {
   "cell_type": "markdown",
   "id": "9c1ef800-ed8f-4f4a-981d-c394839547c4",
   "metadata": {
    "tags": []
   },
   "source": [
    "A. Create a new table"
   ]
  },
  {
   "cell_type": "code",
   "execution_count": 17,
   "id": "994390ba-3a28-43fe-bdc7-ad6fd72f46e3",
   "metadata": {
    "tags": []
   },
   "outputs": [
    {
     "name": "stderr",
     "output_type": "stream",
     "text": [
      "100%|████████████████████████████████████████████████████████████████████████████████████████████| 1/1 [00:00<?, ?it/s]\n"
     ]
    }
   ],
   "source": [
    "import pandas\n",
    "import pandas_gbq\n",
    "\n",
    "# TODO: Set project_id to your Google Cloud Platform project ID.\n",
    "project_id = \"spmena-sandbox-vn-apac-dv\"\n",
    "\n",
    "# TODO: Set table_id to the full destination table ID (including the\n",
    "#       dataset ID).\n",
    "table_id = 'tiktok_dashboard.tiktok_order_intraday'\n",
    "\n",
    "pandas_gbq.to_gbq(df_order, table_id, project_id=project_id, if_exists = 'replace')"
   ]
  },
  {
   "cell_type": "markdown",
   "id": "266a8e42-a938-4cda-84cd-5be758150b16",
   "metadata": {
    "tags": []
   },
   "source": [
    "B. Merge to full table"
   ]
  },
  {
   "cell_type": "code",
   "execution_count": 18,
   "id": "a5540dd0-48f2-47fa-ac9e-838d704ea3c8",
   "metadata": {
    "tags": []
   },
   "outputs": [
    {
     "name": "stdout",
     "output_type": "stream",
     "text": [
      "Done merging\n"
     ]
    }
   ],
   "source": [
    "sql = \"\"\"\n",
    "MERGE INTO `spmena-sandbox-vn-apac-dv.tiktok_dashboard.tiktok_order` t1\n",
    "USING `spmena-sandbox-vn-apac-dv.tiktok_dashboard.tiktok_order_intraday` t2\n",
    "ON t1.order_id = t2.order_id and t1.sku_id = t2.sku_id\n",
    "when matched then\n",
    "  update\n",
    "  set t1.order_status = t2.order_status, t1.order_substatus = t2.order_substatus, t1.cancelation_type = t2.cancelation_type, t1.normal_or_preorder = t2.normal_or_preorder, t1.seller_sku = t2.seller_sku, t1.product_name = t2.product_name, t1.variation = t2.variation, t1.quantity = t2.quantity, t1.sku_quantity_of_return = t2.sku_quantity_of_return, t1.sku_unit_original_price = t2.sku_unit_original_price, t1.sku_subtotal_before_discount = t2.sku_subtotal_before_discount, t1.sku_platform_discount = t2.sku_platform_discount, t1.sku_seller_discount = t2.sku_seller_discount, t1.sku_subtotal_after_discount = t2.sku_subtotal_after_discount, t1.shipping_fee_after_discount = t2.shipping_fee_after_discount, t1.original_shipping_fee = t2.original_shipping_fee, t1.shipping_fee_seller_discount = t2.shipping_fee_seller_discount, t1.shipping_fee_platform_discount = t2.shipping_fee_platform_discount, t1.taxes = t2.taxes, t1.order_amount = t2.order_amount, t1.order_refund_amount = t2.order_refund_amount, t1.created_time = t2.created_time, t1.paid_time = t2.paid_time, t1.rts_time = t2.rts_time, t1.shipped_time = t2.shipped_time, t1.delivered_time = t2.delivered_time, t1.cancelled_time = t2.cancelled_time, t1.cancel_by = t2.cancel_by, t1.cancel_reason = t2.cancel_reason, t1.fulfillment_type = t2.fulfillment_type, t1.warehouse_name = t2.warehouse_name, t1.tracking_id = t2.tracking_id, t1.delivery_option = t2.delivery_option, t1.shipping_provider_name = t2.shipping_provider_name, t1.buyer_message = t2.buyer_message, t1.buyer_username = t2.buyer_username, t1.recipient = t2.recipient, t1.phone = t2.phone, t1.country = t2.country, t1.province = t2.province, t1.district = t2.district, t1.commune = t2.commune, t1.detail_address = t2.detail_address, t1.additional_address_information = t2.additional_address_information, t1.payment_method = t2.payment_method, t1.weight = t2.weight, t1.product_category = t2.product_category, t1.package_id = t2.package_id, t1.seller_note = t2.seller_note, t1.checked_status = t2.checked_status, t1.checked_marked_by = t2.checked_marked_by, t1.brand = t2.brand\n",
    "WHEN NOT MATCHED THEN\n",
    "  INSERT (order_id, order_status, order_substatus, cancelation_type, normal_or_preorder, sku_id, seller_sku, product_name, variation, quantity, sku_quantity_of_return, sku_unit_original_price, sku_subtotal_before_discount, sku_platform_discount, sku_seller_discount, sku_subtotal_after_discount, shipping_fee_after_discount, original_shipping_fee, shipping_fee_seller_discount, shipping_fee_platform_discount, taxes, order_amount, order_refund_amount, created_time, paid_time, rts_time, shipped_time, delivered_time, cancelled_time, cancel_by, cancel_reason, fulfillment_type, warehouse_name, tracking_id, delivery_option, shipping_provider_name, buyer_message, buyer_username, recipient, phone, country, province, district, commune, detail_address, additional_address_information, payment_method, weight, product_category, package_id, seller_note, checked_status, checked_marked_by, brand)\n",
    "  VALUES (order_id, order_status, order_substatus, cancelation_type, normal_or_preorder, sku_id, seller_sku, product_name, variation, quantity, sku_quantity_of_return, sku_unit_original_price, sku_subtotal_before_discount, sku_platform_discount, sku_seller_discount, sku_subtotal_after_discount, shipping_fee_after_discount, original_shipping_fee, shipping_fee_seller_discount, shipping_fee_platform_discount, taxes, order_amount, order_refund_amount, created_time, paid_time, rts_time, shipped_time, delivered_time, cancelled_time, cancel_by, cancel_reason, fulfillment_type, warehouse_name, tracking_id, delivery_option, shipping_provider_name, buyer_message, buyer_username, recipient, phone, country, province, district, commune, detail_address, additional_address_information, payment_method, weight, product_category, package_id, seller_note, checked_status, checked_marked_by, brand);\n",
    "\"\"\"\n",
    "project_id = \"spmena-sandbox-vn-apac-dv\"\n",
    "pd.read_gbq(sql,project_id=project_id, use_bqstorage_api=True)  \n",
    "print('Done merging')"
   ]
  },
  {
   "cell_type": "markdown",
   "id": "a75d6a82-caba-4550-a50c-ea7ca4293d48",
   "metadata": {},
   "source": [
    "----------------------------------------------------------------------------------------------------------------------------"
   ]
  },
  {
   "cell_type": "markdown",
   "id": "eab00e78-1983-4fc6-b2af-547981d24bed",
   "metadata": {},
   "source": [
    "## 2. Affiliate folder"
   ]
  },
  {
   "cell_type": "markdown",
   "id": "e3b1b1f9-6151-4af4-ae3f-72478be5a355",
   "metadata": {},
   "source": [
    "### 2.A. Read all csv file from affiliate folder"
   ]
  },
  {
   "cell_type": "code",
   "execution_count": 19,
   "id": "eb30a738-a56b-4483-b3e3-a9e6130127e3",
   "metadata": {
    "tags": []
   },
   "outputs": [],
   "source": [
    "csv_files_raw = []\n",
    "folder_lst = []\n",
    "\n",
    "for division in division_lst:\n",
    "    folder_path = folder_main + division\n",
    "    folder_lst.append(folder_path)\n",
    "for folder in folder_lst:\n",
    "    folder_order = folder + \"/Affiliate Orders/\"\n",
    "    csv_files_lst = glob.glob(folder_order + \"\\*.xlsx\")\n",
    "    for csv_file in csv_files_lst:\n",
    "        csv_files_raw.append(csv_file)"
   ]
  },
  {
   "cell_type": "code",
   "execution_count": 20,
   "id": "b52eb007-1a36-4d89-a156-8f331c88d51b",
   "metadata": {
    "tags": []
   },
   "outputs": [
    {
     "data": {
      "text/plain": [
       "[\"C:/Users/gianhubinh.le/OneDrive - L'Oréal/Documents - -VN- Data Hub - Analytics/Tiktok Shop/CPD/Affiliate Orders\\\\oap_tiktok_affiliate_orders_2023_12_01.xlsx\",\n",
       " \"C:/Users/gianhubinh.le/OneDrive - L'Oréal/Documents - -VN- Data Hub - Analytics/Tiktok Shop/LDB/Affiliate Orders\\\\cerave_tiktok_affiliate_orders_2023_12_01.xlsx\",\n",
       " \"C:/Users/gianhubinh.le/OneDrive - L'Oréal/Documents - -VN- Data Hub - Analytics/Tiktok Shop/LDB/Affiliate Orders\\\\derma_tiktok_affiliate_orders_2023_12_01.xlsx\",\n",
       " \"C:/Users/gianhubinh.le/OneDrive - L'Oréal/Documents - -VN- Data Hub - Analytics/Tiktok Shop/LLD/Affiliate Orders\\\\kiehls_tiktok_affiliate_orders_2023_12_01.xlsx\"]"
      ]
     },
     "execution_count": 20,
     "metadata": {},
     "output_type": "execute_result"
    }
   ],
   "source": [
    "csv_files = []\n",
    "\n",
    "def extract_month(folder_location_string):\n",
    "    date_extract_pattern = r'\\d{4}_\\d{2}_\\d{2}'\n",
    "    match = re.search(date_extract_pattern, folder_location_string)\n",
    "    if match:\n",
    "        extracted_date = match.group()\n",
    "        date_formatted = int(extracted_date.replace(\"_\", \"\"))\n",
    "        if date_formatted >= date_formatted_input:\n",
    "            csv_files.append(folder_location_string)  \n",
    "    \n",
    "for i in csv_files_raw:\n",
    "    extract_month(i)   \n",
    "    \n",
    "csv_files    "
   ]
  },
  {
   "cell_type": "markdown",
   "id": "44078a78-8134-4d89-92e9-48b9e054d784",
   "metadata": {},
   "source": [
    "### 2.B. Read all csv file from affiliate folder"
   ]
  },
  {
   "cell_type": "code",
   "execution_count": 21,
   "id": "ae065cef-cddd-4217-b0c8-b4069d7891a8",
   "metadata": {
    "tags": []
   },
   "outputs": [
    {
     "data": {
      "text/html": [
       "<div>\n",
       "<style scoped>\n",
       "    .dataframe tbody tr th:only-of-type {\n",
       "        vertical-align: middle;\n",
       "    }\n",
       "\n",
       "    .dataframe tbody tr th {\n",
       "        vertical-align: top;\n",
       "    }\n",
       "\n",
       "    .dataframe thead th {\n",
       "        text-align: right;\n",
       "    }\n",
       "</style>\n",
       "<table border=\"1\" class=\"dataframe\">\n",
       "  <thead>\n",
       "    <tr style=\"text-align: right;\">\n",
       "      <th></th>\n",
       "      <th>product_id</th>\n",
       "      <th>product_name</th>\n",
       "      <th>sku_sku</th>\n",
       "      <th>sku_id</th>\n",
       "      <th>seller_sku</th>\n",
       "      <th>price</th>\n",
       "      <th>payment_amount</th>\n",
       "      <th>currency</th>\n",
       "      <th>quantity</th>\n",
       "      <th>payment_method</th>\n",
       "      <th>order_status</th>\n",
       "      <th>creator_username</th>\n",
       "      <th>content_type</th>\n",
       "      <th>content_id</th>\n",
       "      <th>commission_rate_percentage</th>\n",
       "      <th>est_commision_base</th>\n",
       "      <th>est_commision_payment</th>\n",
       "      <th>act_commision_base</th>\n",
       "      <th>act_commision_payment</th>\n",
       "      <th>refunds_returns</th>\n",
       "      <th>refunds</th>\n",
       "      <th>time_created</th>\n",
       "      <th>payment_time</th>\n",
       "      <th>time_ship</th>\n",
       "      <th>time_delivered</th>\n",
       "      <th>time_completed</th>\n",
       "      <th>time_commission_paid</th>\n",
       "      <th>brand</th>\n",
       "      <th>plan_id</th>\n",
       "      <th>plan_type</th>\n",
       "    </tr>\n",
       "    <tr>\n",
       "      <th>order_id</th>\n",
       "      <th></th>\n",
       "      <th></th>\n",
       "      <th></th>\n",
       "      <th></th>\n",
       "      <th></th>\n",
       "      <th></th>\n",
       "      <th></th>\n",
       "      <th></th>\n",
       "      <th></th>\n",
       "      <th></th>\n",
       "      <th></th>\n",
       "      <th></th>\n",
       "      <th></th>\n",
       "      <th></th>\n",
       "      <th></th>\n",
       "      <th></th>\n",
       "      <th></th>\n",
       "      <th></th>\n",
       "      <th></th>\n",
       "      <th></th>\n",
       "      <th></th>\n",
       "      <th></th>\n",
       "      <th></th>\n",
       "      <th></th>\n",
       "      <th></th>\n",
       "      <th></th>\n",
       "      <th></th>\n",
       "      <th></th>\n",
       "      <th></th>\n",
       "      <th></th>\n",
       "    </tr>\n",
       "  </thead>\n",
       "  <tbody>\n",
       "    <tr>\n",
       "      <th>578174226535254351</th>\n",
       "      <td>1729502599715326539</td>\n",
       "      <td>[Mua 2 tặng 2] Kem nền 24h mịn nhẹ lâu trôi L'...</td>\n",
       "      <td>125 Natural Rose</td>\n",
       "      <td>1729502663547849291</td>\n",
       "      <td>6902395719373</td>\n",
       "      <td>289000.0</td>\n",
       "      <td>381200.0</td>\n",
       "      <td>VND</td>\n",
       "      <td>1</td>\n",
       "      <td>Cash on delivery</td>\n",
       "      <td>Cancelled</td>\n",
       "      <td>nguyenttnguyen</td>\n",
       "      <td>Showcase</td>\n",
       "      <td>NaN</td>\n",
       "      <td>6</td>\n",
       "      <td>289000</td>\n",
       "      <td>17340</td>\n",
       "      <td>NaN</td>\n",
       "      <td>NaN</td>\n",
       "      <td>0</td>\n",
       "      <td>0</td>\n",
       "      <td>01/12/2023 00:06:44</td>\n",
       "      <td>NaN</td>\n",
       "      <td>01/12/2023 00:06:45</td>\n",
       "      <td>NaN</td>\n",
       "      <td>NaN</td>\n",
       "      <td>NaN</td>\n",
       "      <td>L'Oreal Paris</td>\n",
       "      <td>NaN</td>\n",
       "      <td>NaN</td>\n",
       "    </tr>\n",
       "  </tbody>\n",
       "</table>\n",
       "</div>"
      ],
      "text/plain": [
       "                             product_id  \\\n",
       "order_id                                  \n",
       "578174226535254351  1729502599715326539   \n",
       "\n",
       "                                                         product_name  \\\n",
       "order_id                                                                \n",
       "578174226535254351  [Mua 2 tặng 2] Kem nền 24h mịn nhẹ lâu trôi L'...   \n",
       "\n",
       "                             sku_sku               sku_id     seller_sku  \\\n",
       "order_id                                                                   \n",
       "578174226535254351  125 Natural Rose  1729502663547849291  6902395719373   \n",
       "\n",
       "                       price  payment_amount currency  quantity  \\\n",
       "order_id                                                          \n",
       "578174226535254351  289000.0        381200.0      VND         1   \n",
       "\n",
       "                      payment_method order_status creator_username  \\\n",
       "order_id                                                             \n",
       "578174226535254351  Cash on delivery    Cancelled   nguyenttnguyen   \n",
       "\n",
       "                   content_type content_id  commission_rate_percentage  \\\n",
       "order_id                                                                 \n",
       "578174226535254351     Showcase        NaN                           6   \n",
       "\n",
       "                    est_commision_base  est_commision_payment  \\\n",
       "order_id                                                        \n",
       "578174226535254351              289000                  17340   \n",
       "\n",
       "                    act_commision_base  act_commision_payment  \\\n",
       "order_id                                                        \n",
       "578174226535254351                 NaN                    NaN   \n",
       "\n",
       "                    refunds_returns  refunds         time_created  \\\n",
       "order_id                                                            \n",
       "578174226535254351                0        0  01/12/2023 00:06:44   \n",
       "\n",
       "                   payment_time            time_ship time_delivered  \\\n",
       "order_id                                                              \n",
       "578174226535254351          NaN  01/12/2023 00:06:45            NaN   \n",
       "\n",
       "                   time_completed time_commission_paid          brand  \\\n",
       "order_id                                                                \n",
       "578174226535254351            NaN                  NaN  L'Oreal Paris   \n",
       "\n",
       "                    plan_id  plan_type  \n",
       "order_id                                \n",
       "578174226535254351      NaN        NaN  "
      ]
     },
     "execution_count": 21,
     "metadata": {},
     "output_type": "execute_result"
    }
   ],
   "source": [
    "dfs = []\n",
    "\n",
    "for file in csv_files:\n",
    "    df = pd.read_excel(file, dtype={\n",
    "            'Content ID': 'object'\n",
    "            ,'Order ID': 'object'\n",
    "            ,'Product ID': 'object'\n",
    "            ,'Sku Id': 'object'\n",
    "            ,'Price': 'float'\n",
    "            ,'Payment Amount': 'float'\n",
    "        })\n",
    "    \n",
    "    if re.search(\"cerave\", str(file), re.IGNORECASE):\n",
    "        df['brand'] = 'CeraVe'\n",
    "    elif re.search(\"kiehls\", str(file), re.IGNORECASE):\n",
    "        df['brand'] = \"Kiehl's\"\n",
    "    elif re.search(\"oap\", str(file), re.IGNORECASE):\n",
    "        df['brand'] = \"L'Oreal Paris\"\n",
    "    elif re.search(\"mny\", str(file), re.IGNORECASE):\n",
    "        df['brand'] = \"Maybelline\"\n",
    "    elif re.search(\"derma\", str(file), re.IGNORECASE):\n",
    "        df['brand'] = \"Derma\"\n",
    "        \n",
    "    dfs.append(df)\n",
    "\n",
    "df_affiliate = pd.concat(dfs)\n",
    "df_affiliate.rename(columns={'Order ID': 'order_id', 'Product ID': 'product_id', 'Product Name': 'product_name', 'Sku': 'sku_sku', 'Sku Id': 'sku_id', 'Seller Sku': 'seller_sku', 'Price': 'price', 'Payment Amount': 'payment_amount', 'Currency': 'currency', 'Quantity': 'quantity', 'Payment method': 'payment_method', 'Order Status': 'order_status', 'Creator Username': 'creator_username', 'Content Type': 'content_type', 'Content ID': 'content_id', 'Commission Rate (%)': 'commission_rate_percentage', 'Est. Commission Base': 'est_commision_base', 'Est. Commission Payment': 'est_commision_payment', 'Actual Commission Base': 'act_commision_base', 'Actual Commission Payment': 'act_commision_payment', 'Refunds & Returns': 'refunds_returns', 'Refunds': 'refunds', 'Plan ID': 'plan_id', 'Plan Type': 'plan_type', 'Time Created': 'time_created', 'Payment time': 'payment_time', 'Time ready to ship': 'time_ship', 'Order Delivery Time': 'time_delivered', 'Time Order Completed': 'time_completed', 'Time Commission Paid': 'time_commission_paid'}, errors=\"raise\", inplace=True)\n",
    "df_affiliate.set_index('order_id', inplace=True)\n",
    "df_affiliate.head(1)"
   ]
  },
  {
   "cell_type": "markdown",
   "id": "62a4b49c-5533-4b92-83e4-7e37d0aff6bf",
   "metadata": {},
   "source": [
    "### 2.C. Clean the affiliate dataframe"
   ]
  },
  {
   "cell_type": "code",
   "execution_count": 22,
   "id": "4cd09d35-389f-4136-a889-99703415b7d1",
   "metadata": {
    "tags": []
   },
   "outputs": [
    {
     "name": "stdout",
     "output_type": "stream",
     "text": [
      "55957\n"
     ]
    },
    {
     "data": {
      "text/html": [
       "<div>\n",
       "<style scoped>\n",
       "    .dataframe tbody tr th:only-of-type {\n",
       "        vertical-align: middle;\n",
       "    }\n",
       "\n",
       "    .dataframe tbody tr th {\n",
       "        vertical-align: top;\n",
       "    }\n",
       "\n",
       "    .dataframe thead th {\n",
       "        text-align: right;\n",
       "    }\n",
       "</style>\n",
       "<table border=\"1\" class=\"dataframe\">\n",
       "  <thead>\n",
       "    <tr style=\"text-align: right;\">\n",
       "      <th></th>\n",
       "      <th>product_id</th>\n",
       "      <th>product_name</th>\n",
       "      <th>sku_sku</th>\n",
       "      <th>sku_id</th>\n",
       "      <th>seller_sku</th>\n",
       "      <th>price</th>\n",
       "      <th>payment_amount</th>\n",
       "      <th>currency</th>\n",
       "      <th>quantity</th>\n",
       "      <th>payment_method</th>\n",
       "      <th>order_status</th>\n",
       "      <th>creator_username</th>\n",
       "      <th>content_type</th>\n",
       "      <th>content_id</th>\n",
       "      <th>commission_rate_percentage</th>\n",
       "      <th>est_commision_base</th>\n",
       "      <th>est_commision_payment</th>\n",
       "      <th>act_commision_base</th>\n",
       "      <th>act_commision_payment</th>\n",
       "      <th>refunds_returns</th>\n",
       "      <th>refunds</th>\n",
       "      <th>time_created</th>\n",
       "      <th>payment_time</th>\n",
       "      <th>time_ship</th>\n",
       "      <th>time_delivered</th>\n",
       "      <th>time_completed</th>\n",
       "      <th>time_commission_paid</th>\n",
       "      <th>brand</th>\n",
       "      <th>plan_id</th>\n",
       "      <th>plan_type</th>\n",
       "    </tr>\n",
       "    <tr>\n",
       "      <th>order_id</th>\n",
       "      <th></th>\n",
       "      <th></th>\n",
       "      <th></th>\n",
       "      <th></th>\n",
       "      <th></th>\n",
       "      <th></th>\n",
       "      <th></th>\n",
       "      <th></th>\n",
       "      <th></th>\n",
       "      <th></th>\n",
       "      <th></th>\n",
       "      <th></th>\n",
       "      <th></th>\n",
       "      <th></th>\n",
       "      <th></th>\n",
       "      <th></th>\n",
       "      <th></th>\n",
       "      <th></th>\n",
       "      <th></th>\n",
       "      <th></th>\n",
       "      <th></th>\n",
       "      <th></th>\n",
       "      <th></th>\n",
       "      <th></th>\n",
       "      <th></th>\n",
       "      <th></th>\n",
       "      <th></th>\n",
       "      <th></th>\n",
       "      <th></th>\n",
       "      <th></th>\n",
       "    </tr>\n",
       "  </thead>\n",
       "  <tbody>\n",
       "    <tr>\n",
       "      <th>578174226535254351</th>\n",
       "      <td>1729502599715326539</td>\n",
       "      <td>[Mua 2 tặng 2] Kem nền 24h mịn nhẹ lâu trôi L'...</td>\n",
       "      <td>125 Natural Rose</td>\n",
       "      <td>1729502663547849291</td>\n",
       "      <td>6902395719373</td>\n",
       "      <td>289000.0</td>\n",
       "      <td>381200.0</td>\n",
       "      <td>VND</td>\n",
       "      <td>1</td>\n",
       "      <td>Cash on delivery</td>\n",
       "      <td>Cancelled</td>\n",
       "      <td>nguyenttnguyen</td>\n",
       "      <td>Showcase</td>\n",
       "      <td>NaN</td>\n",
       "      <td>6</td>\n",
       "      <td>289000</td>\n",
       "      <td>17340</td>\n",
       "      <td>NaN</td>\n",
       "      <td>NaN</td>\n",
       "      <td>0</td>\n",
       "      <td>0</td>\n",
       "      <td>2023-12-01 00:06:44</td>\n",
       "      <td>NaT</td>\n",
       "      <td>2023-12-01 00:06:45</td>\n",
       "      <td>NaT</td>\n",
       "      <td>NaT</td>\n",
       "      <td>NaT</td>\n",
       "      <td>L'Oreal Paris</td>\n",
       "      <td>0</td>\n",
       "      <td>nan</td>\n",
       "    </tr>\n",
       "    <tr>\n",
       "      <th>578174230967650639</th>\n",
       "      <td>1729502599715326539</td>\n",
       "      <td>[Mua 2 tặng 2] Kem nền 24h mịn nhẹ lâu trôi L'...</td>\n",
       "      <td>125 Natural Rose</td>\n",
       "      <td>1729502663547849291</td>\n",
       "      <td>6902395719373</td>\n",
       "      <td>281000.0</td>\n",
       "      <td>381200.0</td>\n",
       "      <td>VND</td>\n",
       "      <td>1</td>\n",
       "      <td>Cash on delivery</td>\n",
       "      <td>Completed</td>\n",
       "      <td>nguyenttnguyen</td>\n",
       "      <td>Showcase</td>\n",
       "      <td>NaN</td>\n",
       "      <td>6</td>\n",
       "      <td>281000</td>\n",
       "      <td>16860</td>\n",
       "      <td>281000.0</td>\n",
       "      <td>16860.0</td>\n",
       "      <td>0</td>\n",
       "      <td>0</td>\n",
       "      <td>2023-12-01 00:08:21</td>\n",
       "      <td>2023-12-02 10:58:26</td>\n",
       "      <td>2023-12-01 00:08:22</td>\n",
       "      <td>2023-12-02 10:58:26</td>\n",
       "      <td>2023-12-08 10:58:27</td>\n",
       "      <td>2023-12-05 11:22:40</td>\n",
       "      <td>L'Oreal Paris</td>\n",
       "      <td>0</td>\n",
       "      <td>nan</td>\n",
       "    </tr>\n",
       "  </tbody>\n",
       "</table>\n",
       "</div>"
      ],
      "text/plain": [
       "                             product_id  \\\n",
       "order_id                                  \n",
       "578174226535254351  1729502599715326539   \n",
       "578174230967650639  1729502599715326539   \n",
       "\n",
       "                                                         product_name  \\\n",
       "order_id                                                                \n",
       "578174226535254351  [Mua 2 tặng 2] Kem nền 24h mịn nhẹ lâu trôi L'...   \n",
       "578174230967650639  [Mua 2 tặng 2] Kem nền 24h mịn nhẹ lâu trôi L'...   \n",
       "\n",
       "                             sku_sku               sku_id     seller_sku  \\\n",
       "order_id                                                                   \n",
       "578174226535254351  125 Natural Rose  1729502663547849291  6902395719373   \n",
       "578174230967650639  125 Natural Rose  1729502663547849291  6902395719373   \n",
       "\n",
       "                       price  payment_amount currency  quantity  \\\n",
       "order_id                                                          \n",
       "578174226535254351  289000.0        381200.0      VND         1   \n",
       "578174230967650639  281000.0        381200.0      VND         1   \n",
       "\n",
       "                      payment_method order_status creator_username  \\\n",
       "order_id                                                             \n",
       "578174226535254351  Cash on delivery    Cancelled   nguyenttnguyen   \n",
       "578174230967650639  Cash on delivery    Completed   nguyenttnguyen   \n",
       "\n",
       "                   content_type content_id  commission_rate_percentage  \\\n",
       "order_id                                                                 \n",
       "578174226535254351     Showcase        NaN                           6   \n",
       "578174230967650639     Showcase        NaN                           6   \n",
       "\n",
       "                    est_commision_base  est_commision_payment  \\\n",
       "order_id                                                        \n",
       "578174226535254351              289000                  17340   \n",
       "578174230967650639              281000                  16860   \n",
       "\n",
       "                    act_commision_base  act_commision_payment  \\\n",
       "order_id                                                        \n",
       "578174226535254351                 NaN                    NaN   \n",
       "578174230967650639            281000.0                16860.0   \n",
       "\n",
       "                    refunds_returns  refunds        time_created  \\\n",
       "order_id                                                           \n",
       "578174226535254351                0        0 2023-12-01 00:06:44   \n",
       "578174230967650639                0        0 2023-12-01 00:08:21   \n",
       "\n",
       "                          payment_time           time_ship  \\\n",
       "order_id                                                     \n",
       "578174226535254351                 NaT 2023-12-01 00:06:45   \n",
       "578174230967650639 2023-12-02 10:58:26 2023-12-01 00:08:22   \n",
       "\n",
       "                        time_delivered      time_completed  \\\n",
       "order_id                                                     \n",
       "578174226535254351                 NaT                 NaT   \n",
       "578174230967650639 2023-12-02 10:58:26 2023-12-08 10:58:27   \n",
       "\n",
       "                   time_commission_paid          brand  plan_id plan_type  \n",
       "order_id                                                                   \n",
       "578174226535254351                  NaT  L'Oreal Paris        0       nan  \n",
       "578174230967650639  2023-12-05 11:22:40  L'Oreal Paris        0       nan  "
      ]
     },
     "execution_count": 22,
     "metadata": {},
     "output_type": "execute_result"
    }
   ],
   "source": [
    "df_affiliate['time_created'] = pd.to_datetime(df_affiliate['time_created'], format='%d/%m/%Y %H:%M:%S')\n",
    "df_affiliate['payment_time'] = pd.to_datetime(df_affiliate['payment_time'], format='%d/%m/%Y %H:%M:%S')\n",
    "df_affiliate['time_ship'] = pd.to_datetime(df_affiliate['time_ship'], format='%d/%m/%Y %H:%M:%S')\n",
    "df_affiliate['time_delivered'] = pd.to_datetime(df_affiliate['time_delivered'], format='%d/%m/%Y %H:%M:%S')\n",
    "df_affiliate['time_completed'] = pd.to_datetime(df_affiliate['time_completed'], format='%d/%m/%Y %H:%M:%S')\n",
    "df_affiliate['time_commission_paid'] = pd.to_datetime(df_affiliate['time_commission_paid'], format='%d/%m/%Y %H:%M:%S')\n",
    "df_affiliate['plan_id'] = df_affiliate['plan_id'].fillna(0)\n",
    "df_affiliate['plan_id'] = df_affiliate['plan_id'].astype(int)\n",
    "df_affiliate['plan_type'] = df_affiliate['plan_type'].astype(str)\n",
    "df_affiliate = df_affiliate.drop_duplicates()\n",
    "print(len(df_affiliate))\n",
    "df_affiliate.head(2)"
   ]
  },
  {
   "cell_type": "markdown",
   "id": "25b242bf-0723-4861-bb74-68648cf4055c",
   "metadata": {
    "tags": []
   },
   "source": [
    "### 2.D. Write affiliate to GCP"
   ]
  },
  {
   "cell_type": "markdown",
   "id": "06313425-f975-4a60-acd4-b255b3b1de9b",
   "metadata": {},
   "source": [
    "A. Create a new table"
   ]
  },
  {
   "cell_type": "code",
   "execution_count": 23,
   "id": "74fc9f69-b999-45d8-921d-05ff4dcaf3e0",
   "metadata": {
    "tags": []
   },
   "outputs": [
    {
     "name": "stderr",
     "output_type": "stream",
     "text": [
      "100%|████████████████████████████████████████████████████████████████████████████████████████████| 1/1 [00:00<?, ?it/s]\n"
     ]
    }
   ],
   "source": [
    "import pandas\n",
    "import pandas_gbq\n",
    "\n",
    "# TODO: Set project_id to your Google Cloud Platform project ID.\n",
    "project_id = \"spmena-sandbox-vn-apac-dv\"\n",
    "\n",
    "# TODO: Set table_id to the full destination table ID (including the dataset ID).\n",
    "table_id = 'tiktok_dashboard.tiktok_affiliate_order_intraday'\n",
    "\n",
    "pandas_gbq.to_gbq(df_affiliate, table_id, project_id=project_id, if_exists = 'replace')"
   ]
  },
  {
   "cell_type": "markdown",
   "id": "84ef7c5d-22f7-47a4-aaf4-9e5eb1b6c59f",
   "metadata": {
    "tags": []
   },
   "source": [
    "B. Merge to full table"
   ]
  },
  {
   "cell_type": "code",
   "execution_count": 24,
   "id": "9306320d-47a6-45ad-9fea-1a4161b45ec4",
   "metadata": {
    "tags": []
   },
   "outputs": [
    {
     "name": "stdout",
     "output_type": "stream",
     "text": [
      "Done merging\n"
     ]
    }
   ],
   "source": [
    "sql = \"\"\"\n",
    "MERGE INTO `spmena-sandbox-vn-apac-dv.tiktok_dashboard.tiktok_affiliate_order` t1\n",
    "USING `spmena-sandbox-vn-apac-dv.tiktok_dashboard.tiktok_affiliate_order_intraday` t2\n",
    "ON t1.order_id = t2.order_id and t1.sku_id = t2.sku_id\n",
    "when matched then\n",
    "  update\n",
    "  set t1.order_id = t2.order_id, t1.product_id = t2.product_id, t1.product_name = t2.product_name, t1.sku_sku = t2.sku_sku, t1.sku_id = t2.sku_id, t1.seller_sku = t2.seller_sku, t1.price = t2.price, t1.payment_amount = t2.payment_amount, t1.currency = t2.currency, t1.quantity = t2.quantity, t1.payment_method = t2.payment_method, t1.order_status = t2.order_status, t1.creator_username = t2.creator_username, t1.content_type = t2.content_type, t1.content_id = t2.content_id, t1.commission_rate_percentage = t2.commission_rate_percentage, t1.est_commision_base = t2.est_commision_base, t1.est_commision_payment = t2.est_commision_payment, t1.act_commision_base = t2.act_commision_base, t1.act_commision_payment = t2.act_commision_payment, t1.refunds_returns = t2.refunds_returns, t1.refunds = t2.refunds, t1.plan_id = t2.plan_id, t1.plan_type = t2.plan_type, t1.time_created = t2.time_created, t1.payment_time = t2.payment_time, t1.time_ship = t2.time_ship, t1.time_delivered = t2.time_delivered, t1.time_completed = t2.time_completed, t1.time_commission_paid = t2.time_commission_paid, t1.brand = t2.brand\n",
    "WHEN NOT MATCHED THEN\n",
    "  INSERT (order_id, product_id, product_name, sku_sku, sku_id, seller_sku, price, payment_amount, currency, quantity, payment_method, order_status, creator_username, content_type, content_id, commission_rate_percentage, est_commision_base, est_commision_payment, act_commision_base, act_commision_payment, refunds_returns, refunds, plan_id, plan_type, time_created, payment_time, time_ship, time_delivered, time_completed, time_commission_paid, brand\n",
    ")\n",
    "  VALUES (order_id, product_id, product_name, sku_sku, sku_id, seller_sku, price, payment_amount, currency, quantity, payment_method, order_status, creator_username, content_type, content_id, commission_rate_percentage, est_commision_base, est_commision_payment, act_commision_base, act_commision_payment, refunds_returns, refunds, plan_id, plan_type, time_created, payment_time, time_ship, time_delivered, time_completed, time_commission_paid, brand\n",
    ");\n",
    "\"\"\"\n",
    "project_id = \"spmena-sandbox-vn-apac-dv\"\n",
    "pd.read_gbq(sql,project_id=project_id, use_bqstorage_api=True)  \n",
    "print('Done merging')"
   ]
  },
  {
   "cell_type": "markdown",
   "id": "99819bb6-2afe-4ebc-b31c-820ac21e3601",
   "metadata": {},
   "source": [
    "----------------------------------------------------------------------------------------------------------------------------"
   ]
  },
  {
   "cell_type": "markdown",
   "id": "ba7ccc7c-228a-40f8-b027-180c15300402",
   "metadata": {},
   "source": [
    "## 3. Livestream"
   ]
  },
  {
   "cell_type": "markdown",
   "id": "43e5dc7e-b121-455b-8205-d76cb35c8cb5",
   "metadata": {},
   "source": [
    "### 3.A. Filter which csv files will be used for update"
   ]
  },
  {
   "cell_type": "code",
   "execution_count": 25,
   "id": "4b448a33-a12d-41b9-a91b-9011e8735dc9",
   "metadata": {
    "tags": []
   },
   "outputs": [],
   "source": [
    "csv_files_raw = []\n",
    "folder_lst = []\n",
    "\n",
    "for division in division_lst:\n",
    "    folder_path = folder_main + division\n",
    "    folder_lst.append(folder_path)\n",
    "for folder in folder_lst:\n",
    "    folder_order = folder + \"/Livestream/\"\n",
    "    csv_files_lst = glob.glob(folder_order + \"\\*.xlsx\")\n",
    "    for csv_file in csv_files_lst:\n",
    "        csv_files_raw.append(csv_file)"
   ]
  },
  {
   "cell_type": "code",
   "execution_count": 26,
   "id": "da06953a-807a-4e9f-aac6-046af271ec7b",
   "metadata": {
    "tags": []
   },
   "outputs": [
    {
     "data": {
      "text/plain": [
       "[\"C:/Users/gianhubinh.le/OneDrive - L'Oréal/Documents - -VN- Data Hub - Analytics/Tiktok Shop/CPD/Livestream\\\\mny_tiktok_livestream_2023_12_01.xlsx\",\n",
       " \"C:/Users/gianhubinh.le/OneDrive - L'Oréal/Documents - -VN- Data Hub - Analytics/Tiktok Shop/CPD/Livestream\\\\oap_tiktok_livestream_2023_12_01.xlsx\",\n",
       " \"C:/Users/gianhubinh.le/OneDrive - L'Oréal/Documents - -VN- Data Hub - Analytics/Tiktok Shop/LDB/Livestream\\\\cerave_tiktok_livestream_2023_12_01.xlsx\",\n",
       " \"C:/Users/gianhubinh.le/OneDrive - L'Oréal/Documents - -VN- Data Hub - Analytics/Tiktok Shop/LDB/Livestream\\\\derma_tiktok_livestream_2023_12_01.xlsx\",\n",
       " \"C:/Users/gianhubinh.le/OneDrive - L'Oréal/Documents - -VN- Data Hub - Analytics/Tiktok Shop/LLD/Livestream\\\\kiehls_tiktok_livestream_2023_12_01.xlsx\",\n",
       " \"C:/Users/gianhubinh.le/OneDrive - L'Oréal/Documents - -VN- Data Hub - Analytics/Tiktok Shop/LLD/Livestream\\\\kiehls_tiktok_livestream_2023_12_01_2023_12_18.xlsx\"]"
      ]
     },
     "execution_count": 26,
     "metadata": {},
     "output_type": "execute_result"
    }
   ],
   "source": [
    "csv_files = []\n",
    "\n",
    "def extract_month(folder_location_string):\n",
    "    date_extract_pattern = r'\\d{4}_\\d{2}_\\d{2}'\n",
    "    match = re.search(date_extract_pattern, folder_location_string)\n",
    "    if match:\n",
    "        extracted_date = match.group()\n",
    "        date_formatted = int(extracted_date.replace(\"_\", \"\"))\n",
    "        if date_formatted >= date_formatted_input:\n",
    "            csv_files.append(folder_location_string)  \n",
    "    \n",
    "for i in csv_files_raw:\n",
    "    extract_month(i)   \n",
    "    \n",
    "csv_files    "
   ]
  },
  {
   "cell_type": "markdown",
   "id": "a87fd15b-08f1-46fe-9a1f-9c48c1c52c62",
   "metadata": {},
   "source": [
    "### 3.B. Append all csv files into a dataframe"
   ]
  },
  {
   "cell_type": "code",
   "execution_count": 27,
   "id": "95a53bed-8e01-4c2b-acdc-2bfd9645df41",
   "metadata": {
    "tags": []
   },
   "outputs": [
    {
     "data": {
      "text/html": [
       "<div>\n",
       "<style scoped>\n",
       "    .dataframe tbody tr th:only-of-type {\n",
       "        vertical-align: middle;\n",
       "    }\n",
       "\n",
       "    .dataframe tbody tr th {\n",
       "        vertical-align: top;\n",
       "    }\n",
       "\n",
       "    .dataframe thead th {\n",
       "        text-align: right;\n",
       "    }\n",
       "</style>\n",
       "<table border=\"1\" class=\"dataframe\">\n",
       "  <thead>\n",
       "    <tr style=\"text-align: right;\">\n",
       "      <th></th>\n",
       "      <th>creator_id</th>\n",
       "      <th>creator_handle</th>\n",
       "      <th>creator_alias</th>\n",
       "      <th>creator_type</th>\n",
       "      <th>is_commissioned</th>\n",
       "      <th>creator_bind_shop_country</th>\n",
       "      <th>live_id</th>\n",
       "      <th>start_timestamp</th>\n",
       "      <th>end_timestamp</th>\n",
       "      <th>duration</th>\n",
       "      <th>revenue</th>\n",
       "      <th>avg_unit_price</th>\n",
       "      <th>products_cnt</th>\n",
       "      <th>products_with_sales_cnt</th>\n",
       "      <th>product_views_cnt</th>\n",
       "      <th>product_clicks_cnt</th>\n",
       "      <th>items_sold_cnt</th>\n",
       "      <th>buyers_cnt</th>\n",
       "      <th>orders_created_cnt</th>\n",
       "      <th>orders_paid_cnt</th>\n",
       "      <th>avg_concurrent_users_cnt</th>\n",
       "      <th>peak_concurrent_users_cnt</th>\n",
       "      <th>co_rate</th>\n",
       "      <th>local_avg_watch_duration</th>\n",
       "      <th>local_ctr_rate</th>\n",
       "      <th>local_new_followers_cnt</th>\n",
       "      <th>local_shares_cnt</th>\n",
       "      <th>local_comments_cnt</th>\n",
       "      <th>local_likes_cnt</th>\n",
       "      <th>local_views_cnt</th>\n",
       "      <th>local_viewers_cnt</th>\n",
       "      <th>date_scrape</th>\n",
       "      <th>brand</th>\n",
       "    </tr>\n",
       "  </thead>\n",
       "  <tbody>\n",
       "    <tr>\n",
       "      <th>0</th>\n",
       "      <td>7164052841220621338</td>\n",
       "      <td>phapphuckhaianshop1</td>\n",
       "      <td>Pháp Phục Khải An</td>\n",
       "      <td>3</td>\n",
       "      <td>False</td>\n",
       "      <td>NaN</td>\n",
       "      <td>7307669338432654081</td>\n",
       "      <td>1701449443</td>\n",
       "      <td>1701455366</td>\n",
       "      <td>5923</td>\n",
       "      <td>0</td>\n",
       "      <td>0</td>\n",
       "      <td>1</td>\n",
       "      <td>0</td>\n",
       "      <td>45</td>\n",
       "      <td>5</td>\n",
       "      <td>0</td>\n",
       "      <td>0</td>\n",
       "      <td>0</td>\n",
       "      <td>0</td>\n",
       "      <td>10</td>\n",
       "      <td>75</td>\n",
       "      <td>0.0</td>\n",
       "      <td>49</td>\n",
       "      <td>0.0054</td>\n",
       "      <td>11</td>\n",
       "      <td>7</td>\n",
       "      <td>118</td>\n",
       "      <td>7754</td>\n",
       "      <td>927</td>\n",
       "      <td>846</td>\n",
       "      <td>2023-12-01</td>\n",
       "      <td>Maybelline</td>\n",
       "    </tr>\n",
       "  </tbody>\n",
       "</table>\n",
       "</div>"
      ],
      "text/plain": [
       "            creator_id       creator_handle      creator_alias  creator_type  \\\n",
       "0  7164052841220621338  phapphuckhaianshop1  Pháp Phục Khải An             3   \n",
       "\n",
       "   is_commissioned creator_bind_shop_country              live_id  \\\n",
       "0            False                       NaN  7307669338432654081   \n",
       "\n",
       "   start_timestamp  end_timestamp  duration  revenue  avg_unit_price  \\\n",
       "0       1701449443     1701455366      5923        0               0   \n",
       "\n",
       "   products_cnt  products_with_sales_cnt  product_views_cnt  \\\n",
       "0             1                        0                 45   \n",
       "\n",
       "   product_clicks_cnt  items_sold_cnt  buyers_cnt  orders_created_cnt  \\\n",
       "0                   5               0           0                   0   \n",
       "\n",
       "   orders_paid_cnt  avg_concurrent_users_cnt  peak_concurrent_users_cnt  \\\n",
       "0                0                        10                         75   \n",
       "\n",
       "   co_rate  local_avg_watch_duration  local_ctr_rate  local_new_followers_cnt  \\\n",
       "0      0.0                        49          0.0054                       11   \n",
       "\n",
       "   local_shares_cnt  local_comments_cnt  local_likes_cnt  local_views_cnt  \\\n",
       "0                 7                 118             7754              927   \n",
       "\n",
       "   local_viewers_cnt date_scrape       brand  \n",
       "0                846  2023-12-01  Maybelline  "
      ]
     },
     "execution_count": 27,
     "metadata": {},
     "output_type": "execute_result"
    }
   ],
   "source": [
    "dfs = []\n",
    "\n",
    "for file in csv_files:\n",
    "    df = pd.read_excel(file, dtype={\n",
    "            'creator_id': 'object'\n",
    "            ,'live_id': 'object'\n",
    "            ,'creator_bind_shop_country': 'object'\n",
    "        })\n",
    "    \n",
    "    if re.search(\"cerave\", str(file), re.IGNORECASE):\n",
    "        df['brand'] = 'CeraVe'\n",
    "    elif re.search(\"kiehls\", str(file), re.IGNORECASE):\n",
    "        df['brand'] = \"Kiehl's\"\n",
    "    elif re.search(\"oap\", str(file), re.IGNORECASE):\n",
    "        df['brand'] = \"L'Oreal Paris\"\n",
    "    elif re.search(\"mny\", str(file), re.IGNORECASE):\n",
    "        df['brand'] = \"Maybelline\"\n",
    "    elif re.search(\"derma\", str(file), re.IGNORECASE):\n",
    "        df['brand'] = \"Derma\"\n",
    "        \n",
    "    dfs.append(df)\n",
    "\n",
    "df_livestream = pd.concat(dfs)\n",
    "df_livestream.head(1)"
   ]
  },
  {
   "cell_type": "markdown",
   "id": "4f892c3a-600e-40c4-a216-4b3c647dace9",
   "metadata": {},
   "source": [
    "### 3.C. Clean the livestream dataframe"
   ]
  },
  {
   "cell_type": "code",
   "execution_count": 28,
   "id": "15a5de3f-ccbf-4915-9ca9-6c383f60c3fe",
   "metadata": {
    "tags": []
   },
   "outputs": [
    {
     "data": {
      "text/html": [
       "<div>\n",
       "<style scoped>\n",
       "    .dataframe tbody tr th:only-of-type {\n",
       "        vertical-align: middle;\n",
       "    }\n",
       "\n",
       "    .dataframe tbody tr th {\n",
       "        vertical-align: top;\n",
       "    }\n",
       "\n",
       "    .dataframe thead th {\n",
       "        text-align: right;\n",
       "    }\n",
       "</style>\n",
       "<table border=\"1\" class=\"dataframe\">\n",
       "  <thead>\n",
       "    <tr style=\"text-align: right;\">\n",
       "      <th></th>\n",
       "      <th>creator_id</th>\n",
       "      <th>creator_handle</th>\n",
       "      <th>creator_alias</th>\n",
       "      <th>creator_type</th>\n",
       "      <th>is_commissioned</th>\n",
       "      <th>creator_bind_shop_country</th>\n",
       "      <th>live_id</th>\n",
       "      <th>start_timestamp</th>\n",
       "      <th>end_timestamp</th>\n",
       "      <th>duration</th>\n",
       "      <th>revenue</th>\n",
       "      <th>avg_unit_price</th>\n",
       "      <th>products_cnt</th>\n",
       "      <th>products_with_sales_cnt</th>\n",
       "      <th>product_views_cnt</th>\n",
       "      <th>product_clicks_cnt</th>\n",
       "      <th>items_sold_cnt</th>\n",
       "      <th>buyers_cnt</th>\n",
       "      <th>orders_created_cnt</th>\n",
       "      <th>orders_paid_cnt</th>\n",
       "      <th>avg_concurrent_users_cnt</th>\n",
       "      <th>peak_concurrent_users_cnt</th>\n",
       "      <th>co_rate</th>\n",
       "      <th>local_avg_watch_duration</th>\n",
       "      <th>local_ctr_rate</th>\n",
       "      <th>local_new_followers_cnt</th>\n",
       "      <th>local_shares_cnt</th>\n",
       "      <th>local_comments_cnt</th>\n",
       "      <th>local_likes_cnt</th>\n",
       "      <th>local_views_cnt</th>\n",
       "      <th>local_viewers_cnt</th>\n",
       "      <th>date_scrape</th>\n",
       "      <th>brand</th>\n",
       "    </tr>\n",
       "  </thead>\n",
       "  <tbody>\n",
       "    <tr>\n",
       "      <th>0</th>\n",
       "      <td>7164052841220621338</td>\n",
       "      <td>phapphuckhaianshop1</td>\n",
       "      <td>Pháp Phục Khải An</td>\n",
       "      <td>3</td>\n",
       "      <td>False</td>\n",
       "      <td>NaN</td>\n",
       "      <td>7307669338432654081</td>\n",
       "      <td>2023-12-01 23:50:43</td>\n",
       "      <td>2023-12-02 01:29:26</td>\n",
       "      <td>5923</td>\n",
       "      <td>0</td>\n",
       "      <td>0</td>\n",
       "      <td>1</td>\n",
       "      <td>0</td>\n",
       "      <td>45</td>\n",
       "      <td>5</td>\n",
       "      <td>0</td>\n",
       "      <td>0</td>\n",
       "      <td>0</td>\n",
       "      <td>0</td>\n",
       "      <td>10</td>\n",
       "      <td>75</td>\n",
       "      <td>0.0</td>\n",
       "      <td>49</td>\n",
       "      <td>0.0054</td>\n",
       "      <td>11</td>\n",
       "      <td>7</td>\n",
       "      <td>118</td>\n",
       "      <td>7754</td>\n",
       "      <td>927</td>\n",
       "      <td>846</td>\n",
       "      <td>2023-12-01</td>\n",
       "      <td>Maybelline</td>\n",
       "    </tr>\n",
       "  </tbody>\n",
       "</table>\n",
       "</div>"
      ],
      "text/plain": [
       "            creator_id       creator_handle      creator_alias  creator_type  \\\n",
       "0  7164052841220621338  phapphuckhaianshop1  Pháp Phục Khải An             3   \n",
       "\n",
       "   is_commissioned creator_bind_shop_country              live_id  \\\n",
       "0            False                       NaN  7307669338432654081   \n",
       "\n",
       "      start_timestamp       end_timestamp  duration  revenue  avg_unit_price  \\\n",
       "0 2023-12-01 23:50:43 2023-12-02 01:29:26      5923        0               0   \n",
       "\n",
       "   products_cnt  products_with_sales_cnt  product_views_cnt  \\\n",
       "0             1                        0                 45   \n",
       "\n",
       "   product_clicks_cnt  items_sold_cnt  buyers_cnt  orders_created_cnt  \\\n",
       "0                   5               0           0                   0   \n",
       "\n",
       "   orders_paid_cnt  avg_concurrent_users_cnt  peak_concurrent_users_cnt  \\\n",
       "0                0                        10                         75   \n",
       "\n",
       "   co_rate  local_avg_watch_duration  local_ctr_rate  local_new_followers_cnt  \\\n",
       "0      0.0                        49          0.0054                       11   \n",
       "\n",
       "   local_shares_cnt  local_comments_cnt  local_likes_cnt  local_views_cnt  \\\n",
       "0                 7                 118             7754              927   \n",
       "\n",
       "   local_viewers_cnt date_scrape       brand  \n",
       "0                846  2023-12-01  Maybelline  "
      ]
     },
     "execution_count": 28,
     "metadata": {},
     "output_type": "execute_result"
    }
   ],
   "source": [
    "def timestamp_to_datetime(x): \n",
    "    return datetime.fromtimestamp(x)\n",
    "\n",
    "df_livestream['start_timestamp'] = df_livestream['start_timestamp'].apply(timestamp_to_datetime)\n",
    "df_livestream['end_timestamp'] = df_livestream['end_timestamp'].apply(timestamp_to_datetime)\n",
    "df_livestream.head(1)"
   ]
  },
  {
   "cell_type": "markdown",
   "id": "e1bb3b5c-0bb6-4b72-ac5e-85864107e9ee",
   "metadata": {},
   "source": [
    "### 3.D. Write livestream to GCP"
   ]
  },
  {
   "cell_type": "markdown",
   "id": "b0af7cbf-f45c-428f-aa20-3c4569dd4307",
   "metadata": {},
   "source": [
    "A. Create a new table"
   ]
  },
  {
   "cell_type": "code",
   "execution_count": 29,
   "id": "85b2f93b-bba5-42ac-b933-2b1a91097405",
   "metadata": {},
   "outputs": [
    {
     "name": "stderr",
     "output_type": "stream",
     "text": [
      "100%|████████████████████████████████████████████████████████████████████████████████████████████| 1/1 [00:00<?, ?it/s]\n"
     ]
    }
   ],
   "source": [
    "# TODO: Set project_id to your Google Cloud Platform project ID.\n",
    "project_id = \"spmena-sandbox-vn-apac-dv\"\n",
    "\n",
    "# TODO: Set table_id to the full destination table ID (including the\n",
    "#       dataset ID).\n",
    "table_id = 'tiktok_dashboard.tiktok_livestream_intraday'\n",
    "\n",
    "pandas_gbq.to_gbq(df_livestream, table_id, project_id=project_id, if_exists = 'replace')"
   ]
  },
  {
   "cell_type": "markdown",
   "id": "319c9e81-158c-48a0-bea2-b46ae3d702c3",
   "metadata": {},
   "source": [
    "B. Merge to full table"
   ]
  },
  {
   "cell_type": "code",
   "execution_count": null,
   "id": "ed0b8683-eef5-42c8-ab1d-abaaefc9613c",
   "metadata": {
    "tags": []
   },
   "outputs": [],
   "source": [
    "sql = \"\"\"\n",
    "MERGE INTO `spmena-sandbox-vn-apac-dv.tiktok_dashboard.tiktok_livestream` t1\n",
    "USING `spmena-sandbox-vn-apac-dv.tiktok_dashboard.tiktok_livestream_intraday` t2\n",
    "ON t1.live_id = t2.live_id and t1.date_scrape = t2.date_scrape and t1.brand = t2.brand\n",
    "when matched then\n",
    "  update\n",
    "  set t1.creator_id = t2.creator_id, t1.creator_handle = t2.creator_handle, t1.creator_alias = t2.creator_alias, t1.creator_type = t2.creator_type, t1.is_commissioned = t2.is_commissioned, t1.creator_bind_shop_country = t2.creator_bind_shop_country, t1.start_timestamp = t2.start_timestamp, t1.end_timestamp = t2.end_timestamp, t1.duration = t2.duration, t1.revenue = t2.revenue, t1.avg_unit_price = t2.avg_unit_price, t1.products_cnt = t2.products_cnt, t1.products_with_sales_cnt = t2.products_with_sales_cnt, t1.product_views_cnt = t2.product_views_cnt, t1.product_clicks_cnt = t2.product_clicks_cnt, t1.items_sold_cnt = t2.items_sold_cnt, t1.buyers_cnt = t2.buyers_cnt, t1.orders_created_cnt = t2.orders_created_cnt, t1.orders_paid_cnt = t2.orders_paid_cnt, t1.avg_concurrent_users_cnt = t2.avg_concurrent_users_cnt, t1.peak_concurrent_users_cnt = t2.peak_concurrent_users_cnt, t1.co_rate = t2.co_rate, t1.local_avg_watch_duration = t2.local_avg_watch_duration, t1.local_ctr_rate = t2.local_ctr_rate, t1.local_new_followers_cnt = t2.local_new_followers_cnt, t1.local_shares_cnt = t2.local_shares_cnt, t1.local_comments_cnt = t2.local_comments_cnt, t1.local_likes_cnt = t2.local_likes_cnt, t1.local_views_cnt = t2.local_views_cnt, t1.local_viewers_cnt = t2.local_viewers_cnt\n",
    "\n",
    "WHEN NOT MATCHED THEN\n",
    "  INSERT (creator_id, creator_handle, creator_alias, creator_type, is_commissioned, creator_bind_shop_country, live_id, start_timestamp, end_timestamp, duration, revenue, avg_unit_price, products_cnt, products_with_sales_cnt, product_views_cnt, product_clicks_cnt, items_sold_cnt, buyers_cnt, orders_created_cnt, orders_paid_cnt, avg_concurrent_users_cnt, peak_concurrent_users_cnt, co_rate, local_avg_watch_duration, local_ctr_rate, local_new_followers_cnt, local_shares_cnt, local_comments_cnt, local_likes_cnt, local_views_cnt, local_viewers_cnt, date_scrape, brand)\n",
    "  VALUES (creator_id, creator_handle, creator_alias, creator_type, is_commissioned, creator_bind_shop_country, live_id, start_timestamp, end_timestamp, duration, revenue, avg_unit_price, products_cnt, products_with_sales_cnt, product_views_cnt, product_clicks_cnt, items_sold_cnt, buyers_cnt, orders_created_cnt, orders_paid_cnt, avg_concurrent_users_cnt, peak_concurrent_users_cnt, co_rate, local_avg_watch_duration, local_ctr_rate, local_new_followers_cnt, local_shares_cnt, local_comments_cnt, local_likes_cnt, local_views_cnt, local_viewers_cnt, date_scrape, brand);\n",
    "\"\"\"\n",
    "project_id = \"spmena-sandbox-vn-apac-dv\"\n",
    "pd.read_gbq(sql,project_id=project_id, use_bqstorage_api=True)    \n",
    "print('Done merging')"
   ]
  },
  {
   "cell_type": "markdown",
   "id": "b9334ee6-13ba-4bae-9fba-8e2eeb8009f4",
   "metadata": {
    "tags": []
   },
   "source": [
    "----------------------------------------------------------------------------------------------------------------------------"
   ]
  },
  {
   "cell_type": "markdown",
   "id": "269a4ed1-2ad9-41fd-b7f8-2dbc3ea08a74",
   "metadata": {
    "tags": []
   },
   "source": [
    "## 4. Video"
   ]
  },
  {
   "cell_type": "markdown",
   "id": "2c448028-99a0-45cb-af10-96377cc947c8",
   "metadata": {},
   "source": [
    "### 4.A. Filter which csv files will be used for update"
   ]
  },
  {
   "cell_type": "code",
   "execution_count": null,
   "id": "781f67c6-6262-4a58-bdb8-a9af0bed2f80",
   "metadata": {
    "tags": []
   },
   "outputs": [],
   "source": [
    "csv_files_raw = []\n",
    "folder_lst = []\n",
    "\n",
    "for division in division_lst:\n",
    "    folder_path = folder_main + division\n",
    "    folder_lst.append(folder_path)\n",
    "for folder in folder_lst:\n",
    "    folder_order = folder + \"/Video/\"\n",
    "    csv_files_lst = glob.glob(folder_order + \"\\*.xlsx\")\n",
    "    for csv_file in csv_files_lst:\n",
    "        csv_files_raw.append(csv_file)"
   ]
  },
  {
   "cell_type": "code",
   "execution_count": null,
   "id": "6c80595f-aa67-4e03-a2bf-c602f6d294d4",
   "metadata": {
    "tags": []
   },
   "outputs": [],
   "source": [
    "csv_files = []\n",
    "\n",
    "def extract_month(folder_location_string):\n",
    "    date_extract_pattern = r'\\d{4}_\\d{2}_\\d{2}'\n",
    "    match = re.search(date_extract_pattern, folder_location_string)\n",
    "    if match:\n",
    "        extracted_date = match.group()\n",
    "        date_formatted = int(extracted_date.replace(\"_\", \"\"))\n",
    "        if date_formatted >= date_formatted_input:\n",
    "            csv_files.append(folder_location_string)  \n",
    "    \n",
    "for i in csv_files_raw:\n",
    "    extract_month(i)   \n",
    "    \n",
    "csv_files    "
   ]
  },
  {
   "cell_type": "markdown",
   "id": "f01bf763-f9d5-4acf-9ec1-7537be7a4151",
   "metadata": {},
   "source": [
    "### 4.B. Append all csv files into a dataframe"
   ]
  },
  {
   "cell_type": "code",
   "execution_count": null,
   "id": "91ec1c35-8d17-42c0-acfd-90756f586e6d",
   "metadata": {
    "tags": []
   },
   "outputs": [],
   "source": [
    "dfs = []\n",
    "\n",
    "for file in csv_files:\n",
    "    df = pd.read_excel(file, dtype={\n",
    "            'video_id': 'string'\n",
    "            ,'video_name': 'string'\n",
    "            ,'creator_id': 'string'\n",
    "            ,'video_publish_time': 'string'\n",
    "            ,'video_url': 'string'\n",
    "            ,'creator_handle': 'string'\n",
    "            ,'creator_alias': 'string'\n",
    "            ,'view_cnt': 'int64'\n",
    "            ,'like_cnt': 'int64'\n",
    "            ,'comment_cnt': 'int64'\n",
    "            ,'share_cnt': 'int64'\n",
    "            ,'new_follower_cnt': 'int64'\n",
    "            ,'item_click_cnt': 'int64'\n",
    "            ,'item_exposure_cnt': 'int64'\n",
    "            ,'item_sold_cnt': 'int64'\n",
    "            ,'item_buyer_cnt': 'int64'\n",
    "            ,'item_click_cnt': 'int64'\n",
    "            ,'revenue': 'int64'\n",
    "            ,'refunds': 'int64'\n",
    "            ,'commission_estimated': 'int64'\n",
    "            ,'product_refund_item_cnt': 'int64'\n",
    "            ,'sku_order_created_cnt': 'int64'\n",
    "    })\n",
    "    \n",
    "    if re.search(\"cerave\", str(file), re.IGNORECASE):\n",
    "        df['brand'] = 'CeraVe'\n",
    "    elif re.search(\"kiehls\", str(file), re.IGNORECASE):\n",
    "        df['brand'] = \"Kiehl's\"\n",
    "    elif re.search(\"oap\", str(file), re.IGNORECASE):\n",
    "        df['brand'] = \"L'Oreal Paris\"\n",
    "    elif re.search(\"mny\", str(file), re.IGNORECASE):\n",
    "        df['brand'] = \"Maybelline\"\n",
    "    elif re.search(\"derma\", str(file), re.IGNORECASE):\n",
    "        df['brand'] = \"Derma\"\n",
    "        \n",
    "    dfs.append(df)\n",
    "\n",
    "df_video = pd.concat(dfs)\n",
    "df_video.head(1)"
   ]
  },
  {
   "cell_type": "markdown",
   "id": "84eb4724-645e-4fd4-973d-6babdfb97091",
   "metadata": {},
   "source": [
    "### 4.C. Clean the video dataframe"
   ]
  },
  {
   "cell_type": "code",
   "execution_count": null,
   "id": "a58a7757-8e6a-439f-8b07-9a93f910d47d",
   "metadata": {
    "tags": []
   },
   "outputs": [],
   "source": [
    "def timestamp_to_datetime_vid(x): \n",
    "    try:\n",
    "        return datetime.fromtimestamp(int(x))\n",
    "    except: return None\n",
    "    \n",
    "df_video['video_publish_time'] = df_video['video_publish_time'].apply(timestamp_to_datetime_vid)\n",
    "\n",
    "if 'building_block' in df_video.columns:\n",
    "    df_video.drop('building_block', axis=1, inplace=True)\n",
    "\n",
    "df_video.head(1)"
   ]
  },
  {
   "cell_type": "markdown",
   "id": "40b765e6-69d7-4828-9ad7-cdbb3798553f",
   "metadata": {
    "tags": []
   },
   "source": [
    "### 4.D. Write video to GCP"
   ]
  },
  {
   "cell_type": "markdown",
   "id": "77bc2150-83fb-450a-8cbd-0fc31d5dfb5d",
   "metadata": {},
   "source": [
    "A. Create a new table"
   ]
  },
  {
   "cell_type": "code",
   "execution_count": null,
   "id": "066c6440-2b49-4e72-8be5-75b155184145",
   "metadata": {
    "tags": []
   },
   "outputs": [],
   "source": [
    "# TODO: Set project_id to your Google Cloud Platform project ID.\n",
    "project_id = \"spmena-sandbox-vn-apac-dv\"\n",
    "\n",
    "# TODO: Set table_id to the full destination table ID (including the\n",
    "#       dataset ID).\n",
    "table_id = 'tiktok_dashboard.tiktok_video_intraday'\n",
    "\n",
    "pandas_gbq.to_gbq(df_video, table_id, project_id=project_id, if_exists = 'replace')"
   ]
  },
  {
   "cell_type": "markdown",
   "id": "b716b3ec-6acd-4533-9272-1606c818ffd7",
   "metadata": {
    "tags": []
   },
   "source": [
    "B. Merge to full table"
   ]
  },
  {
   "cell_type": "code",
   "execution_count": null,
   "id": "764cf06f-b823-4cc3-a4b8-3f8cc3741d94",
   "metadata": {
    "tags": []
   },
   "outputs": [],
   "source": [
    "sql = \"\"\"\n",
    "MERGE INTO `spmena-sandbox-vn-apac-dv.tiktok_dashboard.tiktok_video` t1\n",
    "USING `spmena-sandbox-vn-apac-dv.tiktok_dashboard.tiktok_video_intraday` t2\n",
    "ON t1.video_id = t2.video_id and t1.date_scrape = t2.date_scrape and t1.brand = t2.brand\n",
    "\n",
    "WHEN NOT MATCHED THEN\n",
    "  INSERT (video_id, video_name, video_url, video_publish_time, duration, creator_id, creator_handle, creator_alias, view_cnt, like_cnt, comment_cnt, share_cnt, new_follower_cnt, item_exposure_cnt, item_click_cnt, item_sold_cnt, item_buyer_cnt, revenue, refunds, commission_estimated, product_refund_item_cnt, co_rate, sku_order_created_cnt, ctr_rate, date_scrape, brand)\n",
    "  VALUES (video_id, video_name, video_url, video_publish_time, duration, creator_id, creator_handle, creator_alias, view_cnt, like_cnt, comment_cnt, share_cnt, new_follower_cnt, item_exposure_cnt, item_click_cnt, item_sold_cnt, item_buyer_cnt, revenue, refunds, commission_estimated, product_refund_item_cnt, co_rate, sku_order_created_cnt, ctr_rate, date_scrape, brand);\n",
    "\"\"\"\n",
    "project_id = \"spmena-sandbox-vn-apac-dv\"\n",
    "pd.read_gbq(sql,project_id=project_id, use_bqstorage_api=True)    \n",
    "print('Done merging')"
   ]
  },
  {
   "cell_type": "markdown",
   "id": "257774bf-9954-4687-9c29-a6830ba9ff41",
   "metadata": {
    "tags": []
   },
   "source": [
    "----------------------------------------------------------------------------------------------------------------------------"
   ]
  },
  {
   "cell_type": "markdown",
   "id": "387a9cb0-d87b-4891-a9c3-67f3c8643b4d",
   "metadata": {},
   "source": [
    "## 5. Product"
   ]
  },
  {
   "cell_type": "markdown",
   "id": "acab090d-fd0b-468d-9a9d-32606a3a537c",
   "metadata": {},
   "source": [
    "### 5.A. Filter which csv files will be used for update"
   ]
  },
  {
   "cell_type": "code",
   "execution_count": null,
   "id": "43e596c7-b4da-4faa-bc04-bc653b78f4d5",
   "metadata": {
    "tags": []
   },
   "outputs": [],
   "source": [
    "csv_files_raw = []\n",
    "folder_lst = []\n",
    "\n",
    "for division in division_lst:\n",
    "    folder_path = folder_main + division\n",
    "    folder_lst.append(folder_path)\n",
    "for folder in folder_lst:\n",
    "    folder_order = folder + \"/Product/\"\n",
    "    csv_files_lst = glob.glob(folder_order + \"\\*.xlsx\")\n",
    "    for csv_file in csv_files_lst:\n",
    "        csv_files_raw.append(csv_file)"
   ]
  },
  {
   "cell_type": "code",
   "execution_count": null,
   "id": "bb546476-66e7-4f24-bac7-141e50db1f5e",
   "metadata": {
    "tags": []
   },
   "outputs": [],
   "source": [
    "csv_files = []\n",
    "\n",
    "def extract_month(folder_location_string):\n",
    "    date_extract_pattern = r'\\d{4}_\\d{2}_\\d{2}'\n",
    "    match = re.search(date_extract_pattern, folder_location_string)\n",
    "    if match:\n",
    "        extracted_date = match.group()\n",
    "        date_formatted = int(extracted_date.replace(\"_\", \"\"))\n",
    "        if date_formatted >= date_formatted_input:\n",
    "            csv_files.append(folder_location_string)  \n",
    "    \n",
    "for i in csv_files_raw:\n",
    "    extract_month(i)   \n",
    "    \n",
    "csv_files    "
   ]
  },
  {
   "cell_type": "markdown",
   "id": "4f0c4ea2-5287-47a9-a7ee-78321e89c741",
   "metadata": {},
   "source": [
    "### 5.B. Append all csv files into a dataframe"
   ]
  },
  {
   "cell_type": "code",
   "execution_count": null,
   "id": "de9a9011-b72a-4eb0-aad3-8a8af8789f5d",
   "metadata": {
    "tags": []
   },
   "outputs": [],
   "source": [
    "dfs = []\n",
    "\n",
    "for file in csv_files:\n",
    "    df = pd.read_excel(file, dtype={\n",
    "            'product_id': 'object'\n",
    "            ,'revenue': 'float'\n",
    "            # ,'creator_bind_shop_country': 'object'\n",
    "    })\n",
    "    \n",
    "    if re.search(\"cerave\", str(file), re.IGNORECASE):\n",
    "        df['brand'] = 'CeraVe'\n",
    "    elif re.search(\"kiehls\", str(file), re.IGNORECASE):\n",
    "        df['brand'] = \"Kiehl's\"\n",
    "    elif re.search(\"oap\", str(file), re.IGNORECASE):\n",
    "        df['brand'] = \"L'Oreal Paris\"\n",
    "    elif re.search(\"mny\", str(file), re.IGNORECASE):\n",
    "        df['brand'] = \"Maybelline\"\n",
    "    elif re.search(\"derma\", str(file), re.IGNORECASE):\n",
    "        df['brand'] = \"Derma\"\n",
    "        \n",
    "    dfs.append(df)\n",
    "\n",
    "df_product = pd.concat(dfs)\n",
    "if 'is_competitive_price' in df_product.columns:\n",
    "    df_product = df_product.drop('is_competitive_price', axis=1)\n",
    "df_product.head(1)"
   ]
  },
  {
   "cell_type": "markdown",
   "id": "5e3a1b1d-0b97-4719-81a8-c88edbef381c",
   "metadata": {},
   "source": [
    "### 5.C. Write product to GCP"
   ]
  },
  {
   "cell_type": "markdown",
   "id": "29f0168e-b0e9-4d57-9b2d-d7543bb0e1bf",
   "metadata": {
    "tags": []
   },
   "source": [
    "A. Create a new table"
   ]
  },
  {
   "cell_type": "code",
   "execution_count": null,
   "id": "1b1a112d-80c4-4479-ab5a-4bc8c6fa47a7",
   "metadata": {
    "tags": []
   },
   "outputs": [],
   "source": [
    "# TODO: Set project_id to your Google Cloud Platform project ID.\n",
    "project_id = \"spmena-sandbox-vn-apac-dv\"\n",
    "\n",
    "# TODO: Set table_id to the full destination table ID (including the\n",
    "#       dataset ID).\n",
    "table_id = 'tiktok_dashboard.tiktok_product_intraday'\n",
    "\n",
    "pandas_gbq.to_gbq(df_product, table_id, project_id=project_id, if_exists = 'replace')"
   ]
  },
  {
   "cell_type": "markdown",
   "id": "03ac7aba-5c2a-4823-985d-ee40fa8a3432",
   "metadata": {},
   "source": [
    "B. Merge to full table"
   ]
  },
  {
   "cell_type": "code",
   "execution_count": null,
   "id": "076b5fe7-c86e-4c68-af70-bf2116629289",
   "metadata": {
    "tags": []
   },
   "outputs": [],
   "source": [
    "sql = \"\"\"\n",
    "MERGE INTO `spmena-sandbox-vn-apac-dv.tiktok_dashboard.tiktok_product` t1\n",
    "USING `spmena-sandbox-vn-apac-dv.tiktok_dashboard.tiktok_product_intraday` t2\n",
    "ON t1.product_id = t2.product_id and t1.date_scrape = t2.date_scrape\n",
    "\n",
    "WHEN NOT MATCHED THEN\n",
    "  INSERT (product_id, shop_id, product_name, product_image, revenue, revenue_live, revenue_video, buyer_cnt, item_sold_cnt, sku_order_cnt, item_sold_live_cnt, buyer_live_cnt, viewer_live_cnt, unique_item_click_live_cnt, product_view_cnt_live, product_click_cnt_live, item_sold_video_cnt, sku_order_video_cnt, buyer_video_cnt, viewer_video_cnt, unique_item_click_video_cnt, product_view_cnt_video, product_click_cnt_video, product_co_rate_live, product_ctr_rate_live, product_co_rate_video, product_ctr_rate_video, date_scrape, brand)\n",
    "  VALUES (product_id, shop_id, product_name, product_image, revenue, revenue_live, revenue_video, buyer_cnt, item_sold_cnt, sku_order_cnt, item_sold_live_cnt, buyer_live_cnt, viewer_live_cnt, unique_item_click_live_cnt, product_view_cnt_live, product_click_cnt_live, item_sold_video_cnt, sku_order_video_cnt, buyer_video_cnt, viewer_video_cnt, unique_item_click_video_cnt, product_view_cnt_video, product_click_cnt_video, product_co_rate_live, product_ctr_rate_live, product_co_rate_video, product_ctr_rate_video, date_scrape, brand)\n",
    "\"\"\"\n",
    "project_id = \"spmena-sandbox-vn-apac-dv\"\n",
    "pd.read_gbq(sql,project_id=project_id, use_bqstorage_api=True)    \n",
    "print('Done merging')"
   ]
  },
  {
   "cell_type": "markdown",
   "id": "d4b50cbd-c382-4402-bd53-ed660807bd29",
   "metadata": {},
   "source": [
    "----------------------------------------------------------------------------------------------------------------------------"
   ]
  },
  {
   "cell_type": "markdown",
   "id": "146bc36d-992a-4049-ae89-9ef2a52bb53f",
   "metadata": {},
   "source": [
    "## 6. Product dim table (LDB)"
   ]
  },
  {
   "cell_type": "code",
   "execution_count": null,
   "id": "f63ea1b5-d5e4-404a-a583-74b34d1624ae",
   "metadata": {
    "tags": []
   },
   "outputs": [],
   "source": [
    "df_brand_mapping_ldb = pd.read_excel(\"C:/Users/gianhubinh.le/OneDrive - L'Oréal/Socom _ Daily Performance/bundle_data.xlsx\", sheet_name = 'Sheet1')\n",
    "df_brand_mapping_ldb = df_brand_mapping_ldb[['Brand','Barcode','Component barcode']]\n",
    "df_brand_mapping_ldb = df_brand_mapping_ldb.drop_duplicates()\n",
    "df_brand_mapping_ldb = df_brand_mapping_ldb.dropna(subset=['Brand'])\n",
    "df_brand_mapping_ldb = df_brand_mapping_ldb.rename(columns={'Component barcode': 'Component_barcode'})\n",
    "df_brand_mapping_ldb.columns = df_brand_mapping_ldb.columns.str.lower()\n",
    "df_brand_mapping_ldb.head(2)"
   ]
  },
  {
   "cell_type": "code",
   "execution_count": null,
   "id": "01fb690f-3375-4ab1-99e8-d415f0d391df",
   "metadata": {
    "tags": []
   },
   "outputs": [],
   "source": [
    "# TODO: Set project_id to your Google Cloud Platform project ID.\n",
    "project_id = \"spmena-sandbox-vn-apac-dv\"\n",
    "\n",
    "# TODO: Set table_id to the full destination table ID (including the\n",
    "#       dataset ID).\n",
    "table_id = 'tiktok_dashboard.product_mapping_ldb'\n",
    "\n",
    "pandas_gbq.to_gbq(df_brand_mapping_ldb, table_id, project_id=project_id, if_exists = 'replace')"
   ]
  }
 ],
 "metadata": {
  "kernelspec": {
   "display_name": "Python 3 (ipykernel)",
   "language": "python",
   "name": "python3"
  },
  "language_info": {
   "codemirror_mode": {
    "name": "ipython",
    "version": 3
   },
   "file_extension": ".py",
   "mimetype": "text/x-python",
   "name": "python",
   "nbconvert_exporter": "python",
   "pygments_lexer": "ipython3",
   "version": "3.11.5"
  }
 },
 "nbformat": 4,
 "nbformat_minor": 5
}
